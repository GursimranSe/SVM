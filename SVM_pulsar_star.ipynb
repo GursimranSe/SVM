{
  "nbformat": 4,
  "nbformat_minor": 0,
  "metadata": {
    "colab": {
      "provenance": []
    },
    "kernelspec": {
      "name": "python3",
      "display_name": "Python 3"
    },
    "language_info": {
      "name": "python"
    }
  },
  "cells": [
    {
      "cell_type": "code",
      "source": [
        "!pip install --upgrade --force-reinstall --no-deps kaggle"
      ],
      "metadata": {
        "colab": {
          "base_uri": "https://localhost:8080/"
        },
        "id": "u_piOTJqew_A",
        "outputId": "6a5c6634-0f82-47dd-82df-4e1be501dde4"
      },
      "execution_count": 1,
      "outputs": [
        {
          "output_type": "stream",
          "name": "stdout",
          "text": [
            "Collecting kaggle\n",
            "  Downloading kaggle-1.6.14.tar.gz (82 kB)\n",
            "\u001b[2K     \u001b[90m━━━━━━━━━━━━━━━━━━━━━━━━━━━━━━━━━━━━━━━━\u001b[0m \u001b[32m82.1/82.1 kB\u001b[0m \u001b[31m1.1 MB/s\u001b[0m eta \u001b[36m0:00:00\u001b[0m\n",
            "\u001b[?25h  Preparing metadata (setup.py) ... \u001b[?25l\u001b[?25hdone\n",
            "Building wheels for collected packages: kaggle\n",
            "  Building wheel for kaggle (setup.py) ... \u001b[?25l\u001b[?25hdone\n",
            "  Created wheel for kaggle: filename=kaggle-1.6.14-py3-none-any.whl size=105119 sha256=3267aabb3bd8a0671744d9834cd54861e29e3a311abf97d5bb7866a554204168\n",
            "  Stored in directory: /root/.cache/pip/wheels/d7/54/06/8a8f40cb39536605feb9acaacd0237a95eba39e5065e6392f4\n",
            "Successfully built kaggle\n",
            "Installing collected packages: kaggle\n",
            "  Attempting uninstall: kaggle\n",
            "    Found existing installation: kaggle 1.6.14\n",
            "    Uninstalling kaggle-1.6.14:\n",
            "      Successfully uninstalled kaggle-1.6.14\n",
            "Successfully installed kaggle-1.6.14\n"
          ]
        }
      ]
    },
    {
      "cell_type": "code",
      "source": [
        "!mkdir ~/.kaggle\n",
        "!cp kaggle.json ~/.kaggle/\n",
        "!chmod 600 ~/.kaggle/kaggle.json\n",
        "!kaggle datasets list"
      ],
      "metadata": {
        "colab": {
          "base_uri": "https://localhost:8080/"
        },
        "id": "WKQDGWT-ew6N",
        "outputId": "a4bf1456-d8e5-45fc-8992-98c92d0691c2"
      },
      "execution_count": 2,
      "outputs": [
        {
          "output_type": "stream",
          "name": "stdout",
          "text": [
            "ref                                                                 title                                               size  lastUpdated          downloadCount  voteCount  usabilityRating  \n",
            "------------------------------------------------------------------  -------------------------------------------------  -----  -------------------  -------------  ---------  ---------------  \n",
            "rabieelkharoua/students-performance-dataset                         📚 Students Performance Dataset 📚                    66KB  2024-06-12 23:09:20          11462        239  1.0              \n",
            "nelgiriyewithana/most-streamed-spotify-songs-2024                   Most Streamed Spotify Songs 2024                   496KB  2024-06-15 18:50:51           8779        180  1.0              \n",
            "dataanalyst001/world-population-by-country-2024                     World Population by country 2024                     6KB  2024-07-04 09:47:58           1226         27  1.0              \n",
            "ihelon/coffee-sales                                                 Coffee Sales                                        10KB  2024-07-03 20:04:43           1753         38  1.0              \n",
            "gorororororo23/armenian-market-cars-prediction                      Armenian Market Car Price Prediction                85KB  2024-07-06 02:20:51            549         22  1.0              \n",
            "nikhil7280/weather-type-classification                              Weather Type Classification                        186KB  2024-06-23 18:15:05           2706         56  1.0              \n",
            "humairmunir/anaemia-prediction                                      Anaemia Prediction                                   2KB  2024-07-04 17:58:40            795         33  1.0              \n",
            "muhammadroshaanriaz/icc-mens-t20-worldcup                           Crick World Cup 2024 ICC Men's T20                   3KB  2024-07-08 17:09:28            870         25  1.0              \n",
            "utsavdey1410/food-nutrition-dataset                                 Food Nutrition Dataset                             694KB  2024-06-29 19:42:01           1408         43  1.0              \n",
            "shreyanshverma27/online-sales-dataset-popular-marketplace-data      Online Sales Dataset - Popular Marketplace Data      7KB  2024-05-25 23:55:26          15375        258  1.0              \n",
            "melissamonfared/cambridge-crime-data-2009-2024                      Cambridge Crime Data                                 2MB  2024-07-01 16:00:48            227         96  1.0              \n",
            "sujalsuthar/amazon-delivery-dataset                                 Amazon Delivery Dataset                              2MB  2024-07-02 03:39:48           1108         29  1.0              \n",
            "melissamonfared/formula-1                                           Formula 1 Racing (1950 - 2024)                       6MB  2024-07-06 15:01:05             49         78  1.0              \n",
            "ritiksharma07/data-science-job-listings-from-glassdoor              Data Science Jobs & Salaries 2024                  303KB  2024-06-17 09:26:45            890         24  1.0              \n",
            "fahmidachowdhury/customer-segmentation-data-for-marketing-analysis  Customer Segmentation Data for Marketing Analysis   16KB  2024-06-28 15:58:29           1665         44  0.9411765        \n",
            "gorororororo23/yerevan-hotels-reservation-prices                    Yerevan Hotels Reservation Prices                    3KB  2024-07-05 01:38:12            649         27  1.0              \n",
            "mohamedsaqibshouqi/t20-world-cup-2024-top-teams-and-players         T20 World Cup 2024: Top Teams & Players              2KB  2024-07-02 17:35:22            709         29  1.0              \n",
            "erogluegemen/airline-passengers                                     🛫Airline Passengers                                 807B  2024-06-28 16:48:01            529         23  0.9411765        \n",
            "innocentmfa/students-health-and-academic-performance                Students Health🩺 & Academic📖 Performance🎗️           3KB  2024-06-27 03:57:32           1008         36  1.0              \n",
            "melissamonfared/board-games                                         Board Games                                        755KB  2024-07-01 19:35:36             47         83  0.9411765        \n"
          ]
        }
      ]
    },
    {
      "cell_type": "code",
      "source": [
        "#!kaggle datasets download -d colearninglounge/predicting-pulsar-starintermediate"
      ],
      "metadata": {
        "id": "b78CeDkkewzj"
      },
      "execution_count": 3,
      "outputs": []
    },
    {
      "cell_type": "code",
      "source": [
        "!kaggle datasets download -d baiyuqi/predicting-a-pulsar-star"
      ],
      "metadata": {
        "colab": {
          "base_uri": "https://localhost:8080/"
        },
        "id": "tBqKl6idrM9b",
        "outputId": "15dc0329-e35c-4746-c2fa-8650f60065e6"
      },
      "execution_count": 4,
      "outputs": [
        {
          "output_type": "stream",
          "name": "stdout",
          "text": [
            "Dataset URL: https://www.kaggle.com/datasets/baiyuqi/predicting-a-pulsar-star\n",
            "License(s): Apache 2.0\n",
            "Downloading predicting-a-pulsar-star.zip to /content\n",
            "  0% 0.00/771k [00:00<?, ?B/s]\n",
            "100% 771k/771k [00:00<00:00, 41.9MB/s]\n"
          ]
        }
      ]
    },
    {
      "cell_type": "code",
      "source": [
        "!ls"
      ],
      "metadata": {
        "colab": {
          "base_uri": "https://localhost:8080/"
        },
        "id": "L6DjjtqDew24",
        "outputId": "0cc02c43-e317-4136-81a4-352da7b1b9fe"
      },
      "execution_count": 5,
      "outputs": [
        {
          "output_type": "stream",
          "name": "stdout",
          "text": [
            "kaggle.json  predicting-a-pulsar-star.zip  sample_data\n"
          ]
        }
      ]
    },
    {
      "cell_type": "code",
      "source": [
        "!unzip predicting-a-pulsar-star.zip"
      ],
      "metadata": {
        "colab": {
          "base_uri": "https://localhost:8080/"
        },
        "id": "Rxhd8Rf3ewwI",
        "outputId": "4a162b28-4f70-47e6-aee0-cdbd06596808"
      },
      "execution_count": 6,
      "outputs": [
        {
          "output_type": "stream",
          "name": "stdout",
          "text": [
            "Archive:  predicting-a-pulsar-star.zip\n",
            "  inflating: pulsar_stars.csv        \n"
          ]
        }
      ]
    },
    {
      "cell_type": "code",
      "source": [
        "!ls"
      ],
      "metadata": {
        "colab": {
          "base_uri": "https://localhost:8080/"
        },
        "id": "9Rz1yaQYhOim",
        "outputId": "e2e33d0e-70e3-4542-b122-4e97c74bde9c"
      },
      "execution_count": 7,
      "outputs": [
        {
          "output_type": "stream",
          "name": "stdout",
          "text": [
            "kaggle.json  predicting-a-pulsar-star.zip  pulsar_stars.csv  sample_data\n"
          ]
        }
      ]
    },
    {
      "cell_type": "code",
      "source": [
        "import pandas as pd\n",
        "import numpy as np\n",
        "import matplotlib.pyplot as plt\n",
        "import seaborn as sns\n",
        "%matplotlib inline"
      ],
      "metadata": {
        "id": "rOlACmJpewqZ"
      },
      "execution_count": 8,
      "outputs": []
    },
    {
      "cell_type": "code",
      "source": [
        "import warnings\n",
        "warnings.filterwarnings('ignore')"
      ],
      "metadata": {
        "id": "88xaAVbHhvbr"
      },
      "execution_count": 9,
      "outputs": []
    },
    {
      "cell_type": "code",
      "source": [],
      "metadata": {
        "id": "9aDMkAytrsCD"
      },
      "execution_count": 10,
      "outputs": []
    },
    {
      "cell_type": "markdown",
      "source": [
        "import Pulsar star Dataset"
      ],
      "metadata": {
        "id": "Kr3B2XpN3_F3"
      }
    },
    {
      "cell_type": "code",
      "source": [
        "df=pd.read_csv('/content/pulsar_stars.csv')\n",
        "df.info()"
      ],
      "metadata": {
        "colab": {
          "base_uri": "https://localhost:8080/"
        },
        "id": "sJI-vEjJr3oR",
        "outputId": "6fd67123-3878-44d5-9624-27c899ed2deb"
      },
      "execution_count": 11,
      "outputs": [
        {
          "output_type": "stream",
          "name": "stdout",
          "text": [
            "<class 'pandas.core.frame.DataFrame'>\n",
            "RangeIndex: 17898 entries, 0 to 17897\n",
            "Data columns (total 9 columns):\n",
            " #   Column                                         Non-Null Count  Dtype  \n",
            "---  ------                                         --------------  -----  \n",
            " 0    Mean of the integrated profile                17898 non-null  float64\n",
            " 1    Standard deviation of the integrated profile  17898 non-null  float64\n",
            " 2    Excess kurtosis of the integrated profile     17898 non-null  float64\n",
            " 3    Skewness of the integrated profile            17898 non-null  float64\n",
            " 4    Mean of the DM-SNR curve                      17898 non-null  float64\n",
            " 5    Standard deviation of the DM-SNR curve        17898 non-null  float64\n",
            " 6    Excess kurtosis of the DM-SNR curve           17898 non-null  float64\n",
            " 7    Skewness of the DM-SNR curve                  17898 non-null  float64\n",
            " 8   target_class                                   17898 non-null  int64  \n",
            "dtypes: float64(8), int64(1)\n",
            "memory usage: 1.2 MB\n"
          ]
        }
      ]
    },
    {
      "cell_type": "code",
      "source": [],
      "metadata": {
        "id": "TtHUOq-h4Q7x"
      },
      "execution_count": null,
      "outputs": []
    },
    {
      "cell_type": "markdown",
      "source": [
        "check null value in DF"
      ],
      "metadata": {
        "id": "7xs8I-wm4Ruh"
      }
    },
    {
      "cell_type": "code",
      "source": [
        "df.isnull().sum()"
      ],
      "metadata": {
        "colab": {
          "base_uri": "https://localhost:8080/"
        },
        "id": "IUm6poW_roHw",
        "outputId": "ed23061a-550e-4989-e50e-499331656436"
      },
      "execution_count": 12,
      "outputs": [
        {
          "output_type": "execute_result",
          "data": {
            "text/plain": [
              " Mean of the integrated profile                  0\n",
              " Standard deviation of the integrated profile    0\n",
              " Excess kurtosis of the integrated profile       0\n",
              " Skewness of the integrated profile              0\n",
              " Mean of the DM-SNR curve                        0\n",
              " Standard deviation of the DM-SNR curve          0\n",
              " Excess kurtosis of the DM-SNR curve             0\n",
              " Skewness of the DM-SNR curve                    0\n",
              "target_class                                     0\n",
              "dtype: int64"
            ]
          },
          "metadata": {},
          "execution_count": 12
        }
      ]
    },
    {
      "cell_type": "code",
      "source": [
        "df.columns"
      ],
      "metadata": {
        "colab": {
          "base_uri": "https://localhost:8080/"
        },
        "id": "f1W9sWs8slDK",
        "outputId": "0821a0c1-55a2-43c1-a876-e2e230a1a556"
      },
      "execution_count": 13,
      "outputs": [
        {
          "output_type": "execute_result",
          "data": {
            "text/plain": [
              "Index([' Mean of the integrated profile',\n",
              "       ' Standard deviation of the integrated profile',\n",
              "       ' Excess kurtosis of the integrated profile',\n",
              "       ' Skewness of the integrated profile', ' Mean of the DM-SNR curve',\n",
              "       ' Standard deviation of the DM-SNR curve',\n",
              "       ' Excess kurtosis of the DM-SNR curve', ' Skewness of the DM-SNR curve',\n",
              "       'target_class'],\n",
              "      dtype='object')"
            ]
          },
          "metadata": {},
          "execution_count": 13
        }
      ]
    },
    {
      "cell_type": "markdown",
      "source": [
        "short columns name of DF"
      ],
      "metadata": {
        "id": "BkHBZBoK4InL"
      }
    },
    {
      "cell_type": "code",
      "source": [
        "df.columns=['Mean IP','STD IP','Kurtosis IP','Skewness','Mean DM-SNR','STD DM-SNR','Kurtosis DM-SNR','Skewness DM-SNR','Label']\n",
        "df.columns"
      ],
      "metadata": {
        "colab": {
          "base_uri": "https://localhost:8080/"
        },
        "id": "go-eDzoOsUoT",
        "outputId": "4ef76eee-1c1a-4f9e-dbae-21e7d8214881"
      },
      "execution_count": 14,
      "outputs": [
        {
          "output_type": "execute_result",
          "data": {
            "text/plain": [
              "Index(['Mean IP', 'STD IP', 'Kurtosis IP', 'Skewness', 'Mean DM-SNR',\n",
              "       'STD DM-SNR', 'Kurtosis DM-SNR', 'Skewness DM-SNR', 'Label'],\n",
              "      dtype='object')"
            ]
          },
          "metadata": {},
          "execution_count": 14
        }
      ]
    },
    {
      "cell_type": "code",
      "source": [
        "df.describe()"
      ],
      "metadata": {
        "colab": {
          "base_uri": "https://localhost:8080/",
          "height": 337
        },
        "id": "01d3dBmRs8fQ",
        "outputId": "fc01a38a-3b11-40cd-b6d6-9d02725a1782"
      },
      "execution_count": 15,
      "outputs": [
        {
          "output_type": "execute_result",
          "data": {
            "text/plain": [
              "            Mean IP        STD IP   Kurtosis IP      Skewness   Mean DM-SNR  \\\n",
              "count  17898.000000  17898.000000  17898.000000  17898.000000  17898.000000   \n",
              "mean     111.079968     46.549532      0.477857      1.770279     12.614400   \n",
              "std       25.652935      6.843189      1.064040      6.167913     29.472897   \n",
              "min        5.812500     24.772042     -1.876011     -1.791886      0.213211   \n",
              "25%      100.929688     42.376018      0.027098     -0.188572      1.923077   \n",
              "50%      115.078125     46.947479      0.223240      0.198710      2.801839   \n",
              "75%      127.085938     51.023202      0.473325      0.927783      5.464256   \n",
              "max      192.617188     98.778911      8.069522     68.101622    223.392141   \n",
              "\n",
              "         STD DM-SNR  Kurtosis DM-SNR  Skewness DM-SNR         Label  \n",
              "count  17898.000000     17898.000000     17898.000000  17898.000000  \n",
              "mean      26.326515         8.303556       104.857709      0.091574  \n",
              "std       19.470572         4.506092       106.514540      0.288432  \n",
              "min        7.370432        -3.139270        -1.976976      0.000000  \n",
              "25%       14.437332         5.781506        34.960504      0.000000  \n",
              "50%       18.461316         8.433515        83.064556      0.000000  \n",
              "75%       28.428104        10.702959       139.309330      0.000000  \n",
              "max      110.642211        34.539844      1191.000837      1.000000  "
            ],
            "text/html": [
              "\n",
              "  <div id=\"df-cc93735d-5a18-4c66-99c9-b9cfbb0b6a50\" class=\"colab-df-container\">\n",
              "    <div>\n",
              "<style scoped>\n",
              "    .dataframe tbody tr th:only-of-type {\n",
              "        vertical-align: middle;\n",
              "    }\n",
              "\n",
              "    .dataframe tbody tr th {\n",
              "        vertical-align: top;\n",
              "    }\n",
              "\n",
              "    .dataframe thead th {\n",
              "        text-align: right;\n",
              "    }\n",
              "</style>\n",
              "<table border=\"1\" class=\"dataframe\">\n",
              "  <thead>\n",
              "    <tr style=\"text-align: right;\">\n",
              "      <th></th>\n",
              "      <th>Mean IP</th>\n",
              "      <th>STD IP</th>\n",
              "      <th>Kurtosis IP</th>\n",
              "      <th>Skewness</th>\n",
              "      <th>Mean DM-SNR</th>\n",
              "      <th>STD DM-SNR</th>\n",
              "      <th>Kurtosis DM-SNR</th>\n",
              "      <th>Skewness DM-SNR</th>\n",
              "      <th>Label</th>\n",
              "    </tr>\n",
              "  </thead>\n",
              "  <tbody>\n",
              "    <tr>\n",
              "      <th>count</th>\n",
              "      <td>17898.000000</td>\n",
              "      <td>17898.000000</td>\n",
              "      <td>17898.000000</td>\n",
              "      <td>17898.000000</td>\n",
              "      <td>17898.000000</td>\n",
              "      <td>17898.000000</td>\n",
              "      <td>17898.000000</td>\n",
              "      <td>17898.000000</td>\n",
              "      <td>17898.000000</td>\n",
              "    </tr>\n",
              "    <tr>\n",
              "      <th>mean</th>\n",
              "      <td>111.079968</td>\n",
              "      <td>46.549532</td>\n",
              "      <td>0.477857</td>\n",
              "      <td>1.770279</td>\n",
              "      <td>12.614400</td>\n",
              "      <td>26.326515</td>\n",
              "      <td>8.303556</td>\n",
              "      <td>104.857709</td>\n",
              "      <td>0.091574</td>\n",
              "    </tr>\n",
              "    <tr>\n",
              "      <th>std</th>\n",
              "      <td>25.652935</td>\n",
              "      <td>6.843189</td>\n",
              "      <td>1.064040</td>\n",
              "      <td>6.167913</td>\n",
              "      <td>29.472897</td>\n",
              "      <td>19.470572</td>\n",
              "      <td>4.506092</td>\n",
              "      <td>106.514540</td>\n",
              "      <td>0.288432</td>\n",
              "    </tr>\n",
              "    <tr>\n",
              "      <th>min</th>\n",
              "      <td>5.812500</td>\n",
              "      <td>24.772042</td>\n",
              "      <td>-1.876011</td>\n",
              "      <td>-1.791886</td>\n",
              "      <td>0.213211</td>\n",
              "      <td>7.370432</td>\n",
              "      <td>-3.139270</td>\n",
              "      <td>-1.976976</td>\n",
              "      <td>0.000000</td>\n",
              "    </tr>\n",
              "    <tr>\n",
              "      <th>25%</th>\n",
              "      <td>100.929688</td>\n",
              "      <td>42.376018</td>\n",
              "      <td>0.027098</td>\n",
              "      <td>-0.188572</td>\n",
              "      <td>1.923077</td>\n",
              "      <td>14.437332</td>\n",
              "      <td>5.781506</td>\n",
              "      <td>34.960504</td>\n",
              "      <td>0.000000</td>\n",
              "    </tr>\n",
              "    <tr>\n",
              "      <th>50%</th>\n",
              "      <td>115.078125</td>\n",
              "      <td>46.947479</td>\n",
              "      <td>0.223240</td>\n",
              "      <td>0.198710</td>\n",
              "      <td>2.801839</td>\n",
              "      <td>18.461316</td>\n",
              "      <td>8.433515</td>\n",
              "      <td>83.064556</td>\n",
              "      <td>0.000000</td>\n",
              "    </tr>\n",
              "    <tr>\n",
              "      <th>75%</th>\n",
              "      <td>127.085938</td>\n",
              "      <td>51.023202</td>\n",
              "      <td>0.473325</td>\n",
              "      <td>0.927783</td>\n",
              "      <td>5.464256</td>\n",
              "      <td>28.428104</td>\n",
              "      <td>10.702959</td>\n",
              "      <td>139.309330</td>\n",
              "      <td>0.000000</td>\n",
              "    </tr>\n",
              "    <tr>\n",
              "      <th>max</th>\n",
              "      <td>192.617188</td>\n",
              "      <td>98.778911</td>\n",
              "      <td>8.069522</td>\n",
              "      <td>68.101622</td>\n",
              "      <td>223.392141</td>\n",
              "      <td>110.642211</td>\n",
              "      <td>34.539844</td>\n",
              "      <td>1191.000837</td>\n",
              "      <td>1.000000</td>\n",
              "    </tr>\n",
              "  </tbody>\n",
              "</table>\n",
              "</div>\n",
              "    <div class=\"colab-df-buttons\">\n",
              "\n",
              "  <div class=\"colab-df-container\">\n",
              "    <button class=\"colab-df-convert\" onclick=\"convertToInteractive('df-cc93735d-5a18-4c66-99c9-b9cfbb0b6a50')\"\n",
              "            title=\"Convert this dataframe to an interactive table.\"\n",
              "            style=\"display:none;\">\n",
              "\n",
              "  <svg xmlns=\"http://www.w3.org/2000/svg\" height=\"24px\" viewBox=\"0 -960 960 960\">\n",
              "    <path d=\"M120-120v-720h720v720H120Zm60-500h600v-160H180v160Zm220 220h160v-160H400v160Zm0 220h160v-160H400v160ZM180-400h160v-160H180v160Zm440 0h160v-160H620v160ZM180-180h160v-160H180v160Zm440 0h160v-160H620v160Z\"/>\n",
              "  </svg>\n",
              "    </button>\n",
              "\n",
              "  <style>\n",
              "    .colab-df-container {\n",
              "      display:flex;\n",
              "      gap: 12px;\n",
              "    }\n",
              "\n",
              "    .colab-df-convert {\n",
              "      background-color: #E8F0FE;\n",
              "      border: none;\n",
              "      border-radius: 50%;\n",
              "      cursor: pointer;\n",
              "      display: none;\n",
              "      fill: #1967D2;\n",
              "      height: 32px;\n",
              "      padding: 0 0 0 0;\n",
              "      width: 32px;\n",
              "    }\n",
              "\n",
              "    .colab-df-convert:hover {\n",
              "      background-color: #E2EBFA;\n",
              "      box-shadow: 0px 1px 2px rgba(60, 64, 67, 0.3), 0px 1px 3px 1px rgba(60, 64, 67, 0.15);\n",
              "      fill: #174EA6;\n",
              "    }\n",
              "\n",
              "    .colab-df-buttons div {\n",
              "      margin-bottom: 4px;\n",
              "    }\n",
              "\n",
              "    [theme=dark] .colab-df-convert {\n",
              "      background-color: #3B4455;\n",
              "      fill: #D2E3FC;\n",
              "    }\n",
              "\n",
              "    [theme=dark] .colab-df-convert:hover {\n",
              "      background-color: #434B5C;\n",
              "      box-shadow: 0px 1px 3px 1px rgba(0, 0, 0, 0.15);\n",
              "      filter: drop-shadow(0px 1px 2px rgba(0, 0, 0, 0.3));\n",
              "      fill: #FFFFFF;\n",
              "    }\n",
              "  </style>\n",
              "\n",
              "    <script>\n",
              "      const buttonEl =\n",
              "        document.querySelector('#df-cc93735d-5a18-4c66-99c9-b9cfbb0b6a50 button.colab-df-convert');\n",
              "      buttonEl.style.display =\n",
              "        google.colab.kernel.accessAllowed ? 'block' : 'none';\n",
              "\n",
              "      async function convertToInteractive(key) {\n",
              "        const element = document.querySelector('#df-cc93735d-5a18-4c66-99c9-b9cfbb0b6a50');\n",
              "        const dataTable =\n",
              "          await google.colab.kernel.invokeFunction('convertToInteractive',\n",
              "                                                    [key], {});\n",
              "        if (!dataTable) return;\n",
              "\n",
              "        const docLinkHtml = 'Like what you see? Visit the ' +\n",
              "          '<a target=\"_blank\" href=https://colab.research.google.com/notebooks/data_table.ipynb>data table notebook</a>'\n",
              "          + ' to learn more about interactive tables.';\n",
              "        element.innerHTML = '';\n",
              "        dataTable['output_type'] = 'display_data';\n",
              "        await google.colab.output.renderOutput(dataTable, element);\n",
              "        const docLink = document.createElement('div');\n",
              "        docLink.innerHTML = docLinkHtml;\n",
              "        element.appendChild(docLink);\n",
              "      }\n",
              "    </script>\n",
              "  </div>\n",
              "\n",
              "\n",
              "<div id=\"df-f6171018-361c-44b3-90db-20beab46b461\">\n",
              "  <button class=\"colab-df-quickchart\" onclick=\"quickchart('df-f6171018-361c-44b3-90db-20beab46b461')\"\n",
              "            title=\"Suggest charts\"\n",
              "            style=\"display:none;\">\n",
              "\n",
              "<svg xmlns=\"http://www.w3.org/2000/svg\" height=\"24px\"viewBox=\"0 0 24 24\"\n",
              "     width=\"24px\">\n",
              "    <g>\n",
              "        <path d=\"M19 3H5c-1.1 0-2 .9-2 2v14c0 1.1.9 2 2 2h14c1.1 0 2-.9 2-2V5c0-1.1-.9-2-2-2zM9 17H7v-7h2v7zm4 0h-2V7h2v10zm4 0h-2v-4h2v4z\"/>\n",
              "    </g>\n",
              "</svg>\n",
              "  </button>\n",
              "\n",
              "<style>\n",
              "  .colab-df-quickchart {\n",
              "      --bg-color: #E8F0FE;\n",
              "      --fill-color: #1967D2;\n",
              "      --hover-bg-color: #E2EBFA;\n",
              "      --hover-fill-color: #174EA6;\n",
              "      --disabled-fill-color: #AAA;\n",
              "      --disabled-bg-color: #DDD;\n",
              "  }\n",
              "\n",
              "  [theme=dark] .colab-df-quickchart {\n",
              "      --bg-color: #3B4455;\n",
              "      --fill-color: #D2E3FC;\n",
              "      --hover-bg-color: #434B5C;\n",
              "      --hover-fill-color: #FFFFFF;\n",
              "      --disabled-bg-color: #3B4455;\n",
              "      --disabled-fill-color: #666;\n",
              "  }\n",
              "\n",
              "  .colab-df-quickchart {\n",
              "    background-color: var(--bg-color);\n",
              "    border: none;\n",
              "    border-radius: 50%;\n",
              "    cursor: pointer;\n",
              "    display: none;\n",
              "    fill: var(--fill-color);\n",
              "    height: 32px;\n",
              "    padding: 0;\n",
              "    width: 32px;\n",
              "  }\n",
              "\n",
              "  .colab-df-quickchart:hover {\n",
              "    background-color: var(--hover-bg-color);\n",
              "    box-shadow: 0 1px 2px rgba(60, 64, 67, 0.3), 0 1px 3px 1px rgba(60, 64, 67, 0.15);\n",
              "    fill: var(--button-hover-fill-color);\n",
              "  }\n",
              "\n",
              "  .colab-df-quickchart-complete:disabled,\n",
              "  .colab-df-quickchart-complete:disabled:hover {\n",
              "    background-color: var(--disabled-bg-color);\n",
              "    fill: var(--disabled-fill-color);\n",
              "    box-shadow: none;\n",
              "  }\n",
              "\n",
              "  .colab-df-spinner {\n",
              "    border: 2px solid var(--fill-color);\n",
              "    border-color: transparent;\n",
              "    border-bottom-color: var(--fill-color);\n",
              "    animation:\n",
              "      spin 1s steps(1) infinite;\n",
              "  }\n",
              "\n",
              "  @keyframes spin {\n",
              "    0% {\n",
              "      border-color: transparent;\n",
              "      border-bottom-color: var(--fill-color);\n",
              "      border-left-color: var(--fill-color);\n",
              "    }\n",
              "    20% {\n",
              "      border-color: transparent;\n",
              "      border-left-color: var(--fill-color);\n",
              "      border-top-color: var(--fill-color);\n",
              "    }\n",
              "    30% {\n",
              "      border-color: transparent;\n",
              "      border-left-color: var(--fill-color);\n",
              "      border-top-color: var(--fill-color);\n",
              "      border-right-color: var(--fill-color);\n",
              "    }\n",
              "    40% {\n",
              "      border-color: transparent;\n",
              "      border-right-color: var(--fill-color);\n",
              "      border-top-color: var(--fill-color);\n",
              "    }\n",
              "    60% {\n",
              "      border-color: transparent;\n",
              "      border-right-color: var(--fill-color);\n",
              "    }\n",
              "    80% {\n",
              "      border-color: transparent;\n",
              "      border-right-color: var(--fill-color);\n",
              "      border-bottom-color: var(--fill-color);\n",
              "    }\n",
              "    90% {\n",
              "      border-color: transparent;\n",
              "      border-bottom-color: var(--fill-color);\n",
              "    }\n",
              "  }\n",
              "</style>\n",
              "\n",
              "  <script>\n",
              "    async function quickchart(key) {\n",
              "      const quickchartButtonEl =\n",
              "        document.querySelector('#' + key + ' button');\n",
              "      quickchartButtonEl.disabled = true;  // To prevent multiple clicks.\n",
              "      quickchartButtonEl.classList.add('colab-df-spinner');\n",
              "      try {\n",
              "        const charts = await google.colab.kernel.invokeFunction(\n",
              "            'suggestCharts', [key], {});\n",
              "      } catch (error) {\n",
              "        console.error('Error during call to suggestCharts:', error);\n",
              "      }\n",
              "      quickchartButtonEl.classList.remove('colab-df-spinner');\n",
              "      quickchartButtonEl.classList.add('colab-df-quickchart-complete');\n",
              "    }\n",
              "    (() => {\n",
              "      let quickchartButtonEl =\n",
              "        document.querySelector('#df-f6171018-361c-44b3-90db-20beab46b461 button');\n",
              "      quickchartButtonEl.style.display =\n",
              "        google.colab.kernel.accessAllowed ? 'block' : 'none';\n",
              "    })();\n",
              "  </script>\n",
              "</div>\n",
              "\n",
              "    </div>\n",
              "  </div>\n"
            ],
            "application/vnd.google.colaboratory.intrinsic+json": {
              "type": "dataframe",
              "summary": "{\n  \"name\": \"df\",\n  \"rows\": 8,\n  \"fields\": [\n    {\n      \"column\": \"Mean IP\",\n      \"properties\": {\n        \"dtype\": \"number\",\n        \"std\": 6293.9137739105945,\n        \"min\": 5.8125,\n        \"max\": 17898.0,\n        \"num_unique_values\": 8,\n        \"samples\": [\n          111.07996834492681,\n          115.078125,\n          17898.0\n        ],\n        \"semantic_type\": \"\",\n        \"description\": \"\"\n      }\n    },\n    {\n      \"column\": \"STD IP\",\n      \"properties\": {\n        \"dtype\": \"number\",\n        \"std\": 6311.927386846253,\n        \"min\": 6.843189410087772,\n        \"max\": 17898.0,\n        \"num_unique_values\": 8,\n        \"samples\": [\n          46.54953156153424,\n          46.94747911,\n          17898.0\n        ],\n        \"semantic_type\": \"\",\n        \"description\": \"\"\n      }\n    },\n    {\n      \"column\": \"Kurtosis IP\",\n      \"properties\": {\n        \"dtype\": \"number\",\n        \"std\": 6327.472015102324,\n        \"min\": -1.876011181,\n        \"max\": 17898.0,\n        \"num_unique_values\": 8,\n        \"samples\": [\n          0.47785725810191076,\n          0.22324002399999998,\n          17898.0\n        ],\n        \"semantic_type\": \"\",\n        \"description\": \"\"\n      }\n    },\n    {\n      \"column\": \"Skewness\",\n      \"properties\": {\n        \"dtype\": \"number\",\n        \"std\": 6324.144899346614,\n        \"min\": -1.791885981,\n        \"max\": 17898.0,\n        \"num_unique_values\": 8,\n        \"samples\": [\n          1.7702789980713487,\n          0.19871040099999998,\n          17898.0\n        ],\n        \"semantic_type\": \"\",\n        \"description\": \"\"\n      }\n    },\n    {\n      \"column\": \"Mean DM-SNR\",\n      \"properties\": {\n        \"dtype\": \"number\",\n        \"std\": 6314.418078868683,\n        \"min\": 0.213210702,\n        \"max\": 17898.0,\n        \"num_unique_values\": 8,\n        \"samples\": [\n          12.614399658311543,\n          2.801839465,\n          17898.0\n        ],\n        \"semantic_type\": \"\",\n        \"description\": \"\"\n      }\n    },\n    {\n      \"column\": \"STD DM-SNR\",\n      \"properties\": {\n        \"dtype\": \"number\",\n        \"std\": 6316.61211335847,\n        \"min\": 7.370432165,\n        \"max\": 17898.0,\n        \"num_unique_values\": 8,\n        \"samples\": [\n          26.326514703918594,\n          18.461315589999998,\n          17898.0\n        ],\n        \"semantic_type\": \"\",\n        \"description\": \"\"\n      }\n    },\n    {\n      \"column\": \"Kurtosis DM-SNR\",\n      \"properties\": {\n        \"dtype\": \"number\",\n        \"std\": 6324.41644099026,\n        \"min\": -3.139269611,\n        \"max\": 17898.0,\n        \"num_unique_values\": 8,\n        \"samples\": [\n          8.303556116638282,\n          8.433514689,\n          17898.0\n        ],\n        \"semantic_type\": \"\",\n        \"description\": \"\"\n      }\n    },\n    {\n      \"column\": \"Skewness DM-SNR\",\n      \"properties\": {\n        \"dtype\": \"number\",\n        \"std\": 6256.4644969169885,\n        \"min\": -1.976975603,\n        \"max\": 17898.0,\n        \"num_unique_values\": 8,\n        \"samples\": [\n          104.85770870366203,\n          83.06455613,\n          17898.0\n        ],\n        \"semantic_type\": \"\",\n        \"description\": \"\"\n      }\n    },\n    {\n      \"column\": \"Label\",\n      \"properties\": {\n        \"dtype\": \"number\",\n        \"std\": 6327.828893216954,\n        \"min\": 0.0,\n        \"max\": 17898.0,\n        \"num_unique_values\": 5,\n        \"samples\": [\n          0.09157447759526204,\n          1.0,\n          0.2884323852046664\n        ],\n        \"semantic_type\": \"\",\n        \"description\": \"\"\n      }\n    }\n  ]\n}"
            }
          },
          "metadata": {},
          "execution_count": 15
        }
      ]
    },
    {
      "cell_type": "code",
      "source": [
        "df.head()"
      ],
      "metadata": {
        "id": "Rdkc1NMWtBhA",
        "outputId": "44948bb1-fdc0-41aa-f215-2d93780d90a5",
        "colab": {
          "base_uri": "https://localhost:8080/",
          "height": 243
        }
      },
      "execution_count": 16,
      "outputs": [
        {
          "output_type": "execute_result",
          "data": {
            "text/plain": [
              "      Mean IP     STD IP  Kurtosis IP  Skewness  Mean DM-SNR  STD DM-SNR  \\\n",
              "0  140.562500  55.683782    -0.234571 -0.699648     3.199833   19.110426   \n",
              "1  102.507812  58.882430     0.465318 -0.515088     1.677258   14.860146   \n",
              "2  103.015625  39.341649     0.323328  1.051164     3.121237   21.744669   \n",
              "3  136.750000  57.178449    -0.068415 -0.636238     3.642977   20.959280   \n",
              "4   88.726562  40.672225     0.600866  1.123492     1.178930   11.468720   \n",
              "\n",
              "   Kurtosis DM-SNR  Skewness DM-SNR  Label  \n",
              "0         7.975532        74.242225      0  \n",
              "1        10.576487       127.393580      0  \n",
              "2         7.735822        63.171909      0  \n",
              "3         6.896499        53.593661      0  \n",
              "4        14.269573       252.567306      0  "
            ],
            "text/html": [
              "\n",
              "  <div id=\"df-bab849d9-ce58-4eee-a2f0-b3daae64e809\" class=\"colab-df-container\">\n",
              "    <div>\n",
              "<style scoped>\n",
              "    .dataframe tbody tr th:only-of-type {\n",
              "        vertical-align: middle;\n",
              "    }\n",
              "\n",
              "    .dataframe tbody tr th {\n",
              "        vertical-align: top;\n",
              "    }\n",
              "\n",
              "    .dataframe thead th {\n",
              "        text-align: right;\n",
              "    }\n",
              "</style>\n",
              "<table border=\"1\" class=\"dataframe\">\n",
              "  <thead>\n",
              "    <tr style=\"text-align: right;\">\n",
              "      <th></th>\n",
              "      <th>Mean IP</th>\n",
              "      <th>STD IP</th>\n",
              "      <th>Kurtosis IP</th>\n",
              "      <th>Skewness</th>\n",
              "      <th>Mean DM-SNR</th>\n",
              "      <th>STD DM-SNR</th>\n",
              "      <th>Kurtosis DM-SNR</th>\n",
              "      <th>Skewness DM-SNR</th>\n",
              "      <th>Label</th>\n",
              "    </tr>\n",
              "  </thead>\n",
              "  <tbody>\n",
              "    <tr>\n",
              "      <th>0</th>\n",
              "      <td>140.562500</td>\n",
              "      <td>55.683782</td>\n",
              "      <td>-0.234571</td>\n",
              "      <td>-0.699648</td>\n",
              "      <td>3.199833</td>\n",
              "      <td>19.110426</td>\n",
              "      <td>7.975532</td>\n",
              "      <td>74.242225</td>\n",
              "      <td>0</td>\n",
              "    </tr>\n",
              "    <tr>\n",
              "      <th>1</th>\n",
              "      <td>102.507812</td>\n",
              "      <td>58.882430</td>\n",
              "      <td>0.465318</td>\n",
              "      <td>-0.515088</td>\n",
              "      <td>1.677258</td>\n",
              "      <td>14.860146</td>\n",
              "      <td>10.576487</td>\n",
              "      <td>127.393580</td>\n",
              "      <td>0</td>\n",
              "    </tr>\n",
              "    <tr>\n",
              "      <th>2</th>\n",
              "      <td>103.015625</td>\n",
              "      <td>39.341649</td>\n",
              "      <td>0.323328</td>\n",
              "      <td>1.051164</td>\n",
              "      <td>3.121237</td>\n",
              "      <td>21.744669</td>\n",
              "      <td>7.735822</td>\n",
              "      <td>63.171909</td>\n",
              "      <td>0</td>\n",
              "    </tr>\n",
              "    <tr>\n",
              "      <th>3</th>\n",
              "      <td>136.750000</td>\n",
              "      <td>57.178449</td>\n",
              "      <td>-0.068415</td>\n",
              "      <td>-0.636238</td>\n",
              "      <td>3.642977</td>\n",
              "      <td>20.959280</td>\n",
              "      <td>6.896499</td>\n",
              "      <td>53.593661</td>\n",
              "      <td>0</td>\n",
              "    </tr>\n",
              "    <tr>\n",
              "      <th>4</th>\n",
              "      <td>88.726562</td>\n",
              "      <td>40.672225</td>\n",
              "      <td>0.600866</td>\n",
              "      <td>1.123492</td>\n",
              "      <td>1.178930</td>\n",
              "      <td>11.468720</td>\n",
              "      <td>14.269573</td>\n",
              "      <td>252.567306</td>\n",
              "      <td>0</td>\n",
              "    </tr>\n",
              "  </tbody>\n",
              "</table>\n",
              "</div>\n",
              "    <div class=\"colab-df-buttons\">\n",
              "\n",
              "  <div class=\"colab-df-container\">\n",
              "    <button class=\"colab-df-convert\" onclick=\"convertToInteractive('df-bab849d9-ce58-4eee-a2f0-b3daae64e809')\"\n",
              "            title=\"Convert this dataframe to an interactive table.\"\n",
              "            style=\"display:none;\">\n",
              "\n",
              "  <svg xmlns=\"http://www.w3.org/2000/svg\" height=\"24px\" viewBox=\"0 -960 960 960\">\n",
              "    <path d=\"M120-120v-720h720v720H120Zm60-500h600v-160H180v160Zm220 220h160v-160H400v160Zm0 220h160v-160H400v160ZM180-400h160v-160H180v160Zm440 0h160v-160H620v160ZM180-180h160v-160H180v160Zm440 0h160v-160H620v160Z\"/>\n",
              "  </svg>\n",
              "    </button>\n",
              "\n",
              "  <style>\n",
              "    .colab-df-container {\n",
              "      display:flex;\n",
              "      gap: 12px;\n",
              "    }\n",
              "\n",
              "    .colab-df-convert {\n",
              "      background-color: #E8F0FE;\n",
              "      border: none;\n",
              "      border-radius: 50%;\n",
              "      cursor: pointer;\n",
              "      display: none;\n",
              "      fill: #1967D2;\n",
              "      height: 32px;\n",
              "      padding: 0 0 0 0;\n",
              "      width: 32px;\n",
              "    }\n",
              "\n",
              "    .colab-df-convert:hover {\n",
              "      background-color: #E2EBFA;\n",
              "      box-shadow: 0px 1px 2px rgba(60, 64, 67, 0.3), 0px 1px 3px 1px rgba(60, 64, 67, 0.15);\n",
              "      fill: #174EA6;\n",
              "    }\n",
              "\n",
              "    .colab-df-buttons div {\n",
              "      margin-bottom: 4px;\n",
              "    }\n",
              "\n",
              "    [theme=dark] .colab-df-convert {\n",
              "      background-color: #3B4455;\n",
              "      fill: #D2E3FC;\n",
              "    }\n",
              "\n",
              "    [theme=dark] .colab-df-convert:hover {\n",
              "      background-color: #434B5C;\n",
              "      box-shadow: 0px 1px 3px 1px rgba(0, 0, 0, 0.15);\n",
              "      filter: drop-shadow(0px 1px 2px rgba(0, 0, 0, 0.3));\n",
              "      fill: #FFFFFF;\n",
              "    }\n",
              "  </style>\n",
              "\n",
              "    <script>\n",
              "      const buttonEl =\n",
              "        document.querySelector('#df-bab849d9-ce58-4eee-a2f0-b3daae64e809 button.colab-df-convert');\n",
              "      buttonEl.style.display =\n",
              "        google.colab.kernel.accessAllowed ? 'block' : 'none';\n",
              "\n",
              "      async function convertToInteractive(key) {\n",
              "        const element = document.querySelector('#df-bab849d9-ce58-4eee-a2f0-b3daae64e809');\n",
              "        const dataTable =\n",
              "          await google.colab.kernel.invokeFunction('convertToInteractive',\n",
              "                                                    [key], {});\n",
              "        if (!dataTable) return;\n",
              "\n",
              "        const docLinkHtml = 'Like what you see? Visit the ' +\n",
              "          '<a target=\"_blank\" href=https://colab.research.google.com/notebooks/data_table.ipynb>data table notebook</a>'\n",
              "          + ' to learn more about interactive tables.';\n",
              "        element.innerHTML = '';\n",
              "        dataTable['output_type'] = 'display_data';\n",
              "        await google.colab.output.renderOutput(dataTable, element);\n",
              "        const docLink = document.createElement('div');\n",
              "        docLink.innerHTML = docLinkHtml;\n",
              "        element.appendChild(docLink);\n",
              "      }\n",
              "    </script>\n",
              "  </div>\n",
              "\n",
              "\n",
              "<div id=\"df-e6a7c387-837a-4cc7-83c9-6f9a5d6b57dd\">\n",
              "  <button class=\"colab-df-quickchart\" onclick=\"quickchart('df-e6a7c387-837a-4cc7-83c9-6f9a5d6b57dd')\"\n",
              "            title=\"Suggest charts\"\n",
              "            style=\"display:none;\">\n",
              "\n",
              "<svg xmlns=\"http://www.w3.org/2000/svg\" height=\"24px\"viewBox=\"0 0 24 24\"\n",
              "     width=\"24px\">\n",
              "    <g>\n",
              "        <path d=\"M19 3H5c-1.1 0-2 .9-2 2v14c0 1.1.9 2 2 2h14c1.1 0 2-.9 2-2V5c0-1.1-.9-2-2-2zM9 17H7v-7h2v7zm4 0h-2V7h2v10zm4 0h-2v-4h2v4z\"/>\n",
              "    </g>\n",
              "</svg>\n",
              "  </button>\n",
              "\n",
              "<style>\n",
              "  .colab-df-quickchart {\n",
              "      --bg-color: #E8F0FE;\n",
              "      --fill-color: #1967D2;\n",
              "      --hover-bg-color: #E2EBFA;\n",
              "      --hover-fill-color: #174EA6;\n",
              "      --disabled-fill-color: #AAA;\n",
              "      --disabled-bg-color: #DDD;\n",
              "  }\n",
              "\n",
              "  [theme=dark] .colab-df-quickchart {\n",
              "      --bg-color: #3B4455;\n",
              "      --fill-color: #D2E3FC;\n",
              "      --hover-bg-color: #434B5C;\n",
              "      --hover-fill-color: #FFFFFF;\n",
              "      --disabled-bg-color: #3B4455;\n",
              "      --disabled-fill-color: #666;\n",
              "  }\n",
              "\n",
              "  .colab-df-quickchart {\n",
              "    background-color: var(--bg-color);\n",
              "    border: none;\n",
              "    border-radius: 50%;\n",
              "    cursor: pointer;\n",
              "    display: none;\n",
              "    fill: var(--fill-color);\n",
              "    height: 32px;\n",
              "    padding: 0;\n",
              "    width: 32px;\n",
              "  }\n",
              "\n",
              "  .colab-df-quickchart:hover {\n",
              "    background-color: var(--hover-bg-color);\n",
              "    box-shadow: 0 1px 2px rgba(60, 64, 67, 0.3), 0 1px 3px 1px rgba(60, 64, 67, 0.15);\n",
              "    fill: var(--button-hover-fill-color);\n",
              "  }\n",
              "\n",
              "  .colab-df-quickchart-complete:disabled,\n",
              "  .colab-df-quickchart-complete:disabled:hover {\n",
              "    background-color: var(--disabled-bg-color);\n",
              "    fill: var(--disabled-fill-color);\n",
              "    box-shadow: none;\n",
              "  }\n",
              "\n",
              "  .colab-df-spinner {\n",
              "    border: 2px solid var(--fill-color);\n",
              "    border-color: transparent;\n",
              "    border-bottom-color: var(--fill-color);\n",
              "    animation:\n",
              "      spin 1s steps(1) infinite;\n",
              "  }\n",
              "\n",
              "  @keyframes spin {\n",
              "    0% {\n",
              "      border-color: transparent;\n",
              "      border-bottom-color: var(--fill-color);\n",
              "      border-left-color: var(--fill-color);\n",
              "    }\n",
              "    20% {\n",
              "      border-color: transparent;\n",
              "      border-left-color: var(--fill-color);\n",
              "      border-top-color: var(--fill-color);\n",
              "    }\n",
              "    30% {\n",
              "      border-color: transparent;\n",
              "      border-left-color: var(--fill-color);\n",
              "      border-top-color: var(--fill-color);\n",
              "      border-right-color: var(--fill-color);\n",
              "    }\n",
              "    40% {\n",
              "      border-color: transparent;\n",
              "      border-right-color: var(--fill-color);\n",
              "      border-top-color: var(--fill-color);\n",
              "    }\n",
              "    60% {\n",
              "      border-color: transparent;\n",
              "      border-right-color: var(--fill-color);\n",
              "    }\n",
              "    80% {\n",
              "      border-color: transparent;\n",
              "      border-right-color: var(--fill-color);\n",
              "      border-bottom-color: var(--fill-color);\n",
              "    }\n",
              "    90% {\n",
              "      border-color: transparent;\n",
              "      border-bottom-color: var(--fill-color);\n",
              "    }\n",
              "  }\n",
              "</style>\n",
              "\n",
              "  <script>\n",
              "    async function quickchart(key) {\n",
              "      const quickchartButtonEl =\n",
              "        document.querySelector('#' + key + ' button');\n",
              "      quickchartButtonEl.disabled = true;  // To prevent multiple clicks.\n",
              "      quickchartButtonEl.classList.add('colab-df-spinner');\n",
              "      try {\n",
              "        const charts = await google.colab.kernel.invokeFunction(\n",
              "            'suggestCharts', [key], {});\n",
              "      } catch (error) {\n",
              "        console.error('Error during call to suggestCharts:', error);\n",
              "      }\n",
              "      quickchartButtonEl.classList.remove('colab-df-spinner');\n",
              "      quickchartButtonEl.classList.add('colab-df-quickchart-complete');\n",
              "    }\n",
              "    (() => {\n",
              "      let quickchartButtonEl =\n",
              "        document.querySelector('#df-e6a7c387-837a-4cc7-83c9-6f9a5d6b57dd button');\n",
              "      quickchartButtonEl.style.display =\n",
              "        google.colab.kernel.accessAllowed ? 'block' : 'none';\n",
              "    })();\n",
              "  </script>\n",
              "</div>\n",
              "\n",
              "    </div>\n",
              "  </div>\n"
            ],
            "application/vnd.google.colaboratory.intrinsic+json": {
              "type": "dataframe",
              "variable_name": "df",
              "summary": "{\n  \"name\": \"df\",\n  \"rows\": 17898,\n  \"fields\": [\n    {\n      \"column\": \"Mean IP\",\n      \"properties\": {\n        \"dtype\": \"number\",\n        \"std\": 25.652935359860106,\n        \"min\": 5.8125,\n        \"max\": 192.6171875,\n        \"num_unique_values\": 8626,\n        \"samples\": [\n          83.265625,\n          51.9453125,\n          120.75\n        ],\n        \"semantic_type\": \"\",\n        \"description\": \"\"\n      }\n    },\n    {\n      \"column\": \"STD IP\",\n      \"properties\": {\n        \"dtype\": \"number\",\n        \"std\": 6.843189410087772,\n        \"min\": 24.77204176,\n        \"max\": 98.77891067,\n        \"num_unique_values\": 17862,\n        \"samples\": [\n          48.17823507,\n          50.13572825,\n          53.11199232\n        ],\n        \"semantic_type\": \"\",\n        \"description\": \"\"\n      }\n    },\n    {\n      \"column\": \"Kurtosis IP\",\n      \"properties\": {\n        \"dtype\": \"number\",\n        \"std\": 1.0640397163731556,\n        \"min\": -1.876011181,\n        \"max\": 8.069522046,\n        \"num_unique_values\": 17897,\n        \"samples\": [\n          0.175111538,\n          2.02549836,\n          0.504295246\n        ],\n        \"semantic_type\": \"\",\n        \"description\": \"\"\n      }\n    },\n    {\n      \"column\": \"Skewness\",\n      \"properties\": {\n        \"dtype\": \"number\",\n        \"std\": 6.167913247731735,\n        \"min\": -1.791885981,\n        \"max\": 68.10162173,\n        \"num_unique_values\": 17898,\n        \"samples\": [\n          -0.129815137,\n          8.652912976,\n          0.821088334\n        ],\n        \"semantic_type\": \"\",\n        \"description\": \"\"\n      }\n    },\n    {\n      \"column\": \"Mean DM-SNR\",\n      \"properties\": {\n        \"dtype\": \"number\",\n        \"std\": 29.472897150065176,\n        \"min\": 0.213210702,\n        \"max\": 223.3921405,\n        \"num_unique_values\": 9000,\n        \"samples\": [\n          3.387123746,\n          4.147157191,\n          3.241638796\n        ],\n        \"semantic_type\": \"\",\n        \"description\": \"\"\n      }\n    },\n    {\n      \"column\": \"STD DM-SNR\",\n      \"properties\": {\n        \"dtype\": \"number\",\n        \"std\": 19.470572330539163,\n        \"min\": 7.370432165,\n        \"max\": 110.6422106,\n        \"num_unique_values\": 17894,\n        \"samples\": [\n          16.7127396,\n          11.35208188,\n          11.14631778\n        ],\n        \"semantic_type\": \"\",\n        \"description\": \"\"\n      }\n    },\n    {\n      \"column\": \"Kurtosis DM-SNR\",\n      \"properties\": {\n        \"dtype\": \"number\",\n        \"std\": 4.506091858992771,\n        \"min\": -3.139269611,\n        \"max\": 34.53984419,\n        \"num_unique_values\": 17895,\n        \"samples\": [\n          10.49423164,\n          8.479589229,\n          8.236539915\n        ],\n        \"semantic_type\": \"\",\n        \"description\": \"\"\n      }\n    },\n    {\n      \"column\": \"Skewness DM-SNR\",\n      \"properties\": {\n        \"dtype\": \"number\",\n        \"std\": 106.51453953467565,\n        \"min\": -1.976975603,\n        \"max\": 1191.000837,\n        \"num_unique_values\": 17895,\n        \"samples\": [\n          153.2811187,\n          92.51934407,\n          84.30255822\n        ],\n        \"semantic_type\": \"\",\n        \"description\": \"\"\n      }\n    },\n    {\n      \"column\": \"Label\",\n      \"properties\": {\n        \"dtype\": \"number\",\n        \"std\": 0,\n        \"min\": 0,\n        \"max\": 1,\n        \"num_unique_values\": 2,\n        \"samples\": [\n          1,\n          0\n        ],\n        \"semantic_type\": \"\",\n        \"description\": \"\"\n      }\n    }\n  ]\n}"
            }
          },
          "metadata": {},
          "execution_count": 16
        }
      ]
    },
    {
      "cell_type": "code",
      "source": [
        "df['Label'].value_counts()/np.float64(len(df))"
      ],
      "metadata": {
        "colab": {
          "base_uri": "https://localhost:8080/"
        },
        "id": "RhIhUTiUDcgg",
        "outputId": "420a5a5d-4b62-4c96-b565-a4292f2ed767"
      },
      "execution_count": 17,
      "outputs": [
        {
          "output_type": "execute_result",
          "data": {
            "text/plain": [
              "Label\n",
              "0    0.908426\n",
              "1    0.091574\n",
              "Name: count, dtype: float64"
            ]
          },
          "metadata": {},
          "execution_count": 17
        }
      ]
    },
    {
      "cell_type": "code",
      "source": [
        "df.info()"
      ],
      "metadata": {
        "colab": {
          "base_uri": "https://localhost:8080/"
        },
        "id": "ftGJIRVIZl9-",
        "outputId": "9e69da9f-c7ad-4bef-c6f4-79bb6b2c323e"
      },
      "execution_count": 18,
      "outputs": [
        {
          "output_type": "stream",
          "name": "stdout",
          "text": [
            "<class 'pandas.core.frame.DataFrame'>\n",
            "RangeIndex: 17898 entries, 0 to 17897\n",
            "Data columns (total 9 columns):\n",
            " #   Column           Non-Null Count  Dtype  \n",
            "---  ------           --------------  -----  \n",
            " 0   Mean IP          17898 non-null  float64\n",
            " 1   STD IP           17898 non-null  float64\n",
            " 2   Kurtosis IP      17898 non-null  float64\n",
            " 3   Skewness         17898 non-null  float64\n",
            " 4   Mean DM-SNR      17898 non-null  float64\n",
            " 5   STD DM-SNR       17898 non-null  float64\n",
            " 6   Kurtosis DM-SNR  17898 non-null  float64\n",
            " 7   Skewness DM-SNR  17898 non-null  float64\n",
            " 8   Label            17898 non-null  int64  \n",
            "dtypes: float64(8), int64(1)\n",
            "memory usage: 1.2 MB\n"
          ]
        }
      ]
    },
    {
      "cell_type": "markdown",
      "source": [
        "Use Boxplot to see outliers"
      ],
      "metadata": {
        "id": "JOMXqud34iId"
      }
    },
    {
      "cell_type": "code",
      "source": [
        "plt.figure(figsize=(24,20))\n",
        "plt.subplot(4,2,1)\n",
        "plt.boxplot(df['Mean IP'])\n",
        "#fig.set_title('')\n",
        "plt.ylabel(\"IP Mean\")\n",
        "\n",
        "plt.subplot(4,2,2)\n",
        "fig=plt.boxplot(df['STD IP'])\n",
        "plt.title('STD IP')\n",
        "plt.ylabel(\"IP STD\")\n",
        "\n",
        "plt.subplot(4,2,3)\n",
        "fig=plt.boxplot(df['Kurtosis IP'])\n",
        "#fig.set_title('')\n",
        "plt.ylabel(\"Kurtosis IP\")\n",
        "\n",
        "plt.subplot(4,2,4)\n",
        "plt.boxplot(df['Skewness'])\n",
        "plt.title('')\n",
        "plt.ylabel(\"Skewness\")\n",
        "\n",
        "plt.subplot(4,2,5)\n",
        "plt.boxplot(df['Mean DM-SNR'])\n",
        "plt.title('')\n",
        "plt.ylabel(\"Mean DM_SNR\")\n",
        "\n",
        "plt.subplot(4,2,6)\n",
        "plt.boxplot(df['STD DM-SNR'])\n",
        "plt.title('')\n",
        "plt.ylabel(\"STD DM_SNR\")\n",
        "\n",
        "plt.subplot(4,2,7)\n",
        "plt.boxplot(df['Kurtosis DM-SNR'])\n",
        "plt.title('')\n",
        "plt.ylabel(\"Kurtosis DM_SNR\")\n",
        "\n",
        "plt.subplot(4,2,8)\n",
        "plt.boxplot(df['Skewness DM-SNR'])\n",
        "plt.title('')\n",
        "plt.ylabel(\"Skewness DM_SNR\")\n",
        "\n",
        "plt.show()"
      ],
      "metadata": {
        "colab": {
          "base_uri": "https://localhost:8080/",
          "height": 539
        },
        "id": "F_gqGAVJDcdS",
        "outputId": "47d77b68-20ec-4451-de4d-05840decc282"
      },
      "execution_count": 19,
      "outputs": [
        {
          "output_type": "display_data",
          "data": {
            "text/plain": [
              "<Figure size 2400x2000 with 8 Axes>"
            ],
            "image/png": "[encoded data removed]"
          },
          "metadata": {}
        }
      ]
    },
    {
      "cell_type": "markdown",
      "source": [
        "Plot Histrogram to check distributions"
      ],
      "metadata": {
        "id": "zShUgdXJ4vLp"
      }
    },
    {
      "cell_type": "code",
      "source": [
        "plt.figure(figsize=(24,20))\n",
        "plt.subplot(4,2,1)\n",
        "sns.distplot(df['Mean IP'])\n",
        "plt.title('Mean IP')\n",
        "\n",
        "plt.subplot(4,2,2)\n",
        "sns.distplot(df['STD IP'])\n",
        "plt.title(\"STD IP\")\n",
        "\n",
        "plt.subplot(4,2,3)\n",
        "sns.distplot(df['Kurtosis IP'])\n",
        "plt.title('Kurtosis IP')\n",
        "\n",
        "plt.subplot(4,2,4)\n",
        "sns.distplot(df['Skewness'])\n",
        "plt.title('Skewness')\n",
        "\n",
        "plt.subplot(4,2,5)\n",
        "sns.distplot(df['Mean DM-SNR'])\n",
        "plt.title('Mean DM_SNR')\n",
        "\n",
        "plt.subplot(4,2,6)\n",
        "sns.distplot(df['STD DM-SNR'])\n",
        "plt.title(\"STD DM-SNR\")\n",
        "\n",
        "plt.subplot(4,2,7)\n",
        "sns.distplot(df['Kurtosis DM-SNR'])\n",
        "plt.title('Kurtosis DM_SNR')\n",
        "\n",
        "plt.subplot(4,2,8)\n",
        "sns.distplot(df['Skewness DM-SNR'])\n",
        "plt.title('Skewness DM-SNR')\n",
        "\n",
        "plt.show()"
      ],
      "metadata": {
        "colab": {
          "base_uri": "https://localhost:8080/",
          "height": 542
        },
        "id": "4R9VfBbaDcZ6",
        "outputId": "b6797dc6-afc4-4fa9-9f61-1d2b89f71014"
      },
      "execution_count": 20,
      "outputs": [
        {
          "output_type": "display_data",
          "data": {
            "text/plain": [
              "<Figure size 2400x2000 with 8 Axes>"
            ],
            "image/png": "[encoded data removed]"
          },
          "metadata": {}
        }
      ]
    },
    {
      "cell_type": "code",
      "source": [
        "x=df.drop('Label',axis=1)\n",
        "y=df['Label']\n",
        "x.shape,y.shape"
      ],
      "metadata": {
        "colab": {
          "base_uri": "https://localhost:8080/"
        },
        "id": "ehnivdQLDcXG",
        "outputId": "5d167cdd-d198-49ab-b2a6-8cd887a67d0c"
      },
      "execution_count": 21,
      "outputs": [
        {
          "output_type": "execute_result",
          "data": {
            "text/plain": [
              "((17898, 8), (17898,))"
            ]
          },
          "metadata": {},
          "execution_count": 21
        }
      ]
    },
    {
      "cell_type": "code",
      "source": [
        "df.info()"
      ],
      "metadata": {
        "colab": {
          "base_uri": "https://localhost:8080/"
        },
        "id": "GpYAZs9-roLR",
        "outputId": "2a71c58d-497b-4bea-bd96-55ea0ec727e4"
      },
      "execution_count": 22,
      "outputs": [
        {
          "output_type": "stream",
          "name": "stdout",
          "text": [
            "<class 'pandas.core.frame.DataFrame'>\n",
            "RangeIndex: 17898 entries, 0 to 17897\n",
            "Data columns (total 9 columns):\n",
            " #   Column           Non-Null Count  Dtype  \n",
            "---  ------           --------------  -----  \n",
            " 0   Mean IP          17898 non-null  float64\n",
            " 1   STD IP           17898 non-null  float64\n",
            " 2   Kurtosis IP      17898 non-null  float64\n",
            " 3   Skewness         17898 non-null  float64\n",
            " 4   Mean DM-SNR      17898 non-null  float64\n",
            " 5   STD DM-SNR       17898 non-null  float64\n",
            " 6   Kurtosis DM-SNR  17898 non-null  float64\n",
            " 7   Skewness DM-SNR  17898 non-null  float64\n",
            " 8   Label            17898 non-null  int64  \n",
            "dtypes: float64(8), int64(1)\n",
            "memory usage: 1.2 MB\n"
          ]
        }
      ]
    },
    {
      "cell_type": "markdown",
      "source": [
        "dataset split for training and test"
      ],
      "metadata": {
        "id": "l4jYQcyg48cQ"
      }
    },
    {
      "cell_type": "code",
      "source": [
        "from sklearn.model_selection import train_test_split\n",
        "x_train,x_test,y_train,y_test=train_test_split(x,y,test_size=0.2,random_state=0)"
      ],
      "metadata": {
        "id": "wSvplQXkjG1h"
      },
      "execution_count": 23,
      "outputs": []
    },
    {
      "cell_type": "code",
      "source": [
        "x_train.shape,x_test.shape"
      ],
      "metadata": {
        "colab": {
          "base_uri": "https://localhost:8080/"
        },
        "id": "jHJ-2kNsDcTQ",
        "outputId": "93226fc5-2ac7-4089-e69f-add16cd117cb"
      },
      "execution_count": 24,
      "outputs": [
        {
          "output_type": "execute_result",
          "data": {
            "text/plain": [
              "((14318, 8), (3580, 8))"
            ]
          },
          "metadata": {},
          "execution_count": 24
        }
      ]
    },
    {
      "cell_type": "markdown",
      "source": [
        "Feature Scaling using Standard Scaler"
      ],
      "metadata": {
        "id": "G3K6XCxT5EYd"
      }
    },
    {
      "cell_type": "code",
      "source": [
        "cols=x_train.columns"
      ],
      "metadata": {
        "id": "IHRa7HhUltvG"
      },
      "execution_count": 25,
      "outputs": []
    },
    {
      "cell_type": "code",
      "source": [
        "from sklearn.preprocessing import StandardScaler\n",
        "scaler=StandardScaler()\n",
        "x_train=scaler.fit_transform(x_train)\n",
        "x_test=scaler.transform(x_test)"
      ],
      "metadata": {
        "id": "PuJhlxL9l3if"
      },
      "execution_count": 26,
      "outputs": []
    },
    {
      "cell_type": "code",
      "source": [
        "type(x_train),type(x_test)"
      ],
      "metadata": {
        "colab": {
          "base_uri": "https://localhost:8080/"
        },
        "id": "Onn1orf9PwlS",
        "outputId": "e40cde1d-e1dd-48d7-aa06-26e78b88bf43"
      },
      "execution_count": 27,
      "outputs": [
        {
          "output_type": "execute_result",
          "data": {
            "text/plain": [
              "(numpy.ndarray, numpy.ndarray)"
            ]
          },
          "metadata": {},
          "execution_count": 27
        }
      ]
    },
    {
      "cell_type": "code",
      "source": [
        "x_train=pd.DataFrame(x_train,columns=[cols])\n",
        "x_test=pd.DataFrame(x_test,columns=[cols])"
      ],
      "metadata": {
        "id": "-jXe_-uGDdDq"
      },
      "execution_count": 28,
      "outputs": []
    },
    {
      "cell_type": "code",
      "source": [
        "cols,len(cols)"
      ],
      "metadata": {
        "id": "VVkEEmZ6mlfk",
        "colab": {
          "base_uri": "https://localhost:8080/"
        },
        "outputId": "d42a8c0f-aaa3-49e1-bed5-f40b6db4488c"
      },
      "execution_count": 29,
      "outputs": [
        {
          "output_type": "execute_result",
          "data": {
            "text/plain": [
              "(Index(['Mean IP', 'STD IP', 'Kurtosis IP', 'Skewness', 'Mean DM-SNR',\n",
              "        'STD DM-SNR', 'Kurtosis DM-SNR', 'Skewness DM-SNR'],\n",
              "       dtype='object'),\n",
              " 8)"
            ]
          },
          "metadata": {},
          "execution_count": 29
        }
      ]
    },
    {
      "cell_type": "code",
      "source": [
        "x_train.describe()"
      ],
      "metadata": {
        "id": "30uIk0XamlaW",
        "colab": {
          "base_uri": "https://localhost:8080/",
          "height": 424
        },
        "outputId": "d8bcb6d8-b16e-4997-b223-cb1bcd501717"
      },
      "execution_count": 30,
      "outputs": [
        {
          "output_type": "execute_result",
          "data": {
            "text/plain": [
              "            Mean IP        STD IP   Kurtosis IP      Skewness   Mean DM-SNR  \\\n",
              "count  1.431800e+04  1.431800e+04  1.431800e+04  1.431800e+04  1.431800e+04   \n",
              "mean   1.908113e-16 -6.550610e-16  1.042143e-17  3.870815e-17 -8.734147e-17   \n",
              "std    1.000035e+00  1.000035e+00  1.000035e+00  1.000035e+00  1.000035e+00   \n",
              "min   -4.035499e+00 -3.181033e+00 -2.185946e+00 -5.744051e-01 -4.239001e-01   \n",
              "25%   -3.896291e-01 -6.069473e-01 -4.256221e-01 -3.188054e-01 -3.664918e-01   \n",
              "50%    1.587461e-01  5.846646e-02 -2.453172e-01 -2.578142e-01 -3.372294e-01   \n",
              "75%    6.267059e-01  6.501017e-01 -1.001238e-02 -1.419621e-01 -2.463724e-01   \n",
              "max    3.151882e+00  7.621116e+00  7.008906e+00  1.054430e+01  7.025568e+00   \n",
              "\n",
              "         STD DM-SNR Kurtosis DM-SNR Skewness DM-SNR  \n",
              "count  1.431800e+04    1.431800e+04    1.431800e+04  \n",
              "mean  -1.617802e-16   -1.513588e-17    1.122785e-16  \n",
              "std    1.000035e+00    1.000035e+00    1.000035e+00  \n",
              "min   -9.733707e-01   -2.455649e+00   -1.003411e+00  \n",
              "25%   -6.125457e-01   -5.641035e-01   -6.627590e-01  \n",
              "50%   -4.067482e-01    3.170446e-02   -2.059136e-01  \n",
              "75%    1.078934e-01    5.362759e-01    3.256217e-01  \n",
              "max    4.292181e+00    5.818557e+00    1.024613e+01  "
            ],
            "text/html": [
              "\n",
              "  <div id=\"df-4fefebcf-c570-45c4-9a91-a96008a4f57b\" class=\"colab-df-container\">\n",
              "    <div>\n",
              "<style scoped>\n",
              "    .dataframe tbody tr th:only-of-type {\n",
              "        vertical-align: middle;\n",
              "    }\n",
              "\n",
              "    .dataframe tbody tr th {\n",
              "        vertical-align: top;\n",
              "    }\n",
              "\n",
              "    .dataframe thead tr th {\n",
              "        text-align: left;\n",
              "    }\n",
              "</style>\n",
              "<table border=\"1\" class=\"dataframe\">\n",
              "  <thead>\n",
              "    <tr>\n",
              "      <th></th>\n",
              "      <th>Mean IP</th>\n",
              "      <th>STD IP</th>\n",
              "      <th>Kurtosis IP</th>\n",
              "      <th>Skewness</th>\n",
              "      <th>Mean DM-SNR</th>\n",
              "      <th>STD DM-SNR</th>\n",
              "      <th>Kurtosis DM-SNR</th>\n",
              "      <th>Skewness DM-SNR</th>\n",
              "    </tr>\n",
              "  </thead>\n",
              "  <tbody>\n",
              "    <tr>\n",
              "      <th>count</th>\n",
              "      <td>1.431800e+04</td>\n",
              "      <td>1.431800e+04</td>\n",
              "      <td>1.431800e+04</td>\n",
              "      <td>1.431800e+04</td>\n",
              "      <td>1.431800e+04</td>\n",
              "      <td>1.431800e+04</td>\n",
              "      <td>1.431800e+04</td>\n",
              "      <td>1.431800e+04</td>\n",
              "    </tr>\n",
              "    <tr>\n",
              "      <th>mean</th>\n",
              "      <td>1.908113e-16</td>\n",
              "      <td>-6.550610e-16</td>\n",
              "      <td>1.042143e-17</td>\n",
              "      <td>3.870815e-17</td>\n",
              "      <td>-8.734147e-17</td>\n",
              "      <td>-1.617802e-16</td>\n",
              "      <td>-1.513588e-17</td>\n",
              "      <td>1.122785e-16</td>\n",
              "    </tr>\n",
              "    <tr>\n",
              "      <th>std</th>\n",
              "      <td>1.000035e+00</td>\n",
              "      <td>1.000035e+00</td>\n",
              "      <td>1.000035e+00</td>\n",
              "      <td>1.000035e+00</td>\n",
              "      <td>1.000035e+00</td>\n",
              "      <td>1.000035e+00</td>\n",
              "      <td>1.000035e+00</td>\n",
              "      <td>1.000035e+00</td>\n",
              "    </tr>\n",
              "    <tr>\n",
              "      <th>min</th>\n",
              "      <td>-4.035499e+00</td>\n",
              "      <td>-3.181033e+00</td>\n",
              "      <td>-2.185946e+00</td>\n",
              "      <td>-5.744051e-01</td>\n",
              "      <td>-4.239001e-01</td>\n",
              "      <td>-9.733707e-01</td>\n",
              "      <td>-2.455649e+00</td>\n",
              "      <td>-1.003411e+00</td>\n",
              "    </tr>\n",
              "    <tr>\n",
              "      <th>25%</th>\n",
              "      <td>-3.896291e-01</td>\n",
              "      <td>-6.069473e-01</td>\n",
              "      <td>-4.256221e-01</td>\n",
              "      <td>-3.188054e-01</td>\n",
              "      <td>-3.664918e-01</td>\n",
              "      <td>-6.125457e-01</td>\n",
              "      <td>-5.641035e-01</td>\n",
              "      <td>-6.627590e-01</td>\n",
              "    </tr>\n",
              "    <tr>\n",
              "      <th>50%</th>\n",
              "      <td>1.587461e-01</td>\n",
              "      <td>5.846646e-02</td>\n",
              "      <td>-2.453172e-01</td>\n",
              "      <td>-2.578142e-01</td>\n",
              "      <td>-3.372294e-01</td>\n",
              "      <td>-4.067482e-01</td>\n",
              "      <td>3.170446e-02</td>\n",
              "      <td>-2.059136e-01</td>\n",
              "    </tr>\n",
              "    <tr>\n",
              "      <th>75%</th>\n",
              "      <td>6.267059e-01</td>\n",
              "      <td>6.501017e-01</td>\n",
              "      <td>-1.001238e-02</td>\n",
              "      <td>-1.419621e-01</td>\n",
              "      <td>-2.463724e-01</td>\n",
              "      <td>1.078934e-01</td>\n",
              "      <td>5.362759e-01</td>\n",
              "      <td>3.256217e-01</td>\n",
              "    </tr>\n",
              "    <tr>\n",
              "      <th>max</th>\n",
              "      <td>3.151882e+00</td>\n",
              "      <td>7.621116e+00</td>\n",
              "      <td>7.008906e+00</td>\n",
              "      <td>1.054430e+01</td>\n",
              "      <td>7.025568e+00</td>\n",
              "      <td>4.292181e+00</td>\n",
              "      <td>5.818557e+00</td>\n",
              "      <td>1.024613e+01</td>\n",
              "    </tr>\n",
              "  </tbody>\n",
              "</table>\n",
              "</div>\n",
              "    <div class=\"colab-df-buttons\">\n",
              "\n",
              "  <div class=\"colab-df-container\">\n",
              "    <button class=\"colab-df-convert\" onclick=\"convertToInteractive('df-4fefebcf-c570-45c4-9a91-a96008a4f57b')\"\n",
              "            title=\"Convert this dataframe to an interactive table.\"\n",
              "            style=\"display:none;\">\n",
              "\n",
              "  <svg xmlns=\"http://www.w3.org/2000/svg\" height=\"24px\" viewBox=\"0 -960 960 960\">\n",
              "    <path d=\"M120-120v-720h720v720H120Zm60-500h600v-160H180v160Zm220 220h160v-160H400v160Zm0 220h160v-160H400v160ZM180-400h160v-160H180v160Zm440 0h160v-160H620v160ZM180-180h160v-160H180v160Zm440 0h160v-160H620v160Z\"/>\n",
              "  </svg>\n",
              "    </button>\n",
              "\n",
              "  <style>\n",
              "    .colab-df-container {\n",
              "      display:flex;\n",
              "      gap: 12px;\n",
              "    }\n",
              "\n",
              "    .colab-df-convert {\n",
              "      background-color: #E8F0FE;\n",
              "      border: none;\n",
              "      border-radius: 50%;\n",
              "      cursor: pointer;\n",
              "      display: none;\n",
              "      fill: #1967D2;\n",
              "      height: 32px;\n",
              "      padding: 0 0 0 0;\n",
              "      width: 32px;\n",
              "    }\n",
              "\n",
              "    .colab-df-convert:hover {\n",
              "      background-color: #E2EBFA;\n",
              "      box-shadow: 0px 1px 2px rgba(60, 64, 67, 0.3), 0px 1px 3px 1px rgba(60, 64, 67, 0.15);\n",
              "      fill: #174EA6;\n",
              "    }\n",
              "\n",
              "    .colab-df-buttons div {\n",
              "      margin-bottom: 4px;\n",
              "    }\n",
              "\n",
              "    [theme=dark] .colab-df-convert {\n",
              "      background-color: #3B4455;\n",
              "      fill: #D2E3FC;\n",
              "    }\n",
              "\n",
              "    [theme=dark] .colab-df-convert:hover {\n",
              "      background-color: #434B5C;\n",
              "      box-shadow: 0px 1px 3px 1px rgba(0, 0, 0, 0.15);\n",
              "      filter: drop-shadow(0px 1px 2px rgba(0, 0, 0, 0.3));\n",
              "      fill: #FFFFFF;\n",
              "    }\n",
              "  </style>\n",
              "\n",
              "    <script>\n",
              "      const buttonEl =\n",
              "        document.querySelector('#df-4fefebcf-c570-45c4-9a91-a96008a4f57b button.colab-df-convert');\n",
              "      buttonEl.style.display =\n",
              "        google.colab.kernel.accessAllowed ? 'block' : 'none';\n",
              "\n",
              "      async function convertToInteractive(key) {\n",
              "        const element = document.querySelector('#df-4fefebcf-c570-45c4-9a91-a96008a4f57b');\n",
              "        const dataTable =\n",
              "          await google.colab.kernel.invokeFunction('convertToInteractive',\n",
              "                                                    [key], {});\n",
              "        if (!dataTable) return;\n",
              "\n",
              "        const docLinkHtml = 'Like what you see? Visit the ' +\n",
              "          '<a target=\"_blank\" href=https://colab.research.google.com/notebooks/data_table.ipynb>data table notebook</a>'\n",
              "          + ' to learn more about interactive tables.';\n",
              "        element.innerHTML = '';\n",
              "        dataTable['output_type'] = 'display_data';\n",
              "        await google.colab.output.renderOutput(dataTable, element);\n",
              "        const docLink = document.createElement('div');\n",
              "        docLink.innerHTML = docLinkHtml;\n",
              "        element.appendChild(docLink);\n",
              "      }\n",
              "    </script>\n",
              "  </div>\n",
              "\n",
              "\n",
              "<div id=\"df-39f7447e-d8b9-4487-aafc-47380fd3dea2\">\n",
              "  <button class=\"colab-df-quickchart\" onclick=\"quickchart('df-39f7447e-d8b9-4487-aafc-47380fd3dea2')\"\n",
              "            title=\"Suggest charts\"\n",
              "            style=\"display:none;\">\n",
              "\n",
              "<svg xmlns=\"http://www.w3.org/2000/svg\" height=\"24px\"viewBox=\"0 0 24 24\"\n",
              "     width=\"24px\">\n",
              "    <g>\n",
              "        <path d=\"M19 3H5c-1.1 0-2 .9-2 2v14c0 1.1.9 2 2 2h14c1.1 0 2-.9 2-2V5c0-1.1-.9-2-2-2zM9 17H7v-7h2v7zm4 0h-2V7h2v10zm4 0h-2v-4h2v4z\"/>\n",
              "    </g>\n",
              "</svg>\n",
              "  </button>\n",
              "\n",
              "<style>\n",
              "  .colab-df-quickchart {\n",
              "      --bg-color: #E8F0FE;\n",
              "      --fill-color: #1967D2;\n",
              "      --hover-bg-color: #E2EBFA;\n",
              "      --hover-fill-color: #174EA6;\n",
              "      --disabled-fill-color: #AAA;\n",
              "      --disabled-bg-color: #DDD;\n",
              "  }\n",
              "\n",
              "  [theme=dark] .colab-df-quickchart {\n",
              "      --bg-color: #3B4455;\n",
              "      --fill-color: #D2E3FC;\n",
              "      --hover-bg-color: #434B5C;\n",
              "      --hover-fill-color: #FFFFFF;\n",
              "      --disabled-bg-color: #3B4455;\n",
              "      --disabled-fill-color: #666;\n",
              "  }\n",
              "\n",
              "  .colab-df-quickchart {\n",
              "    background-color: var(--bg-color);\n",
              "    border: none;\n",
              "    border-radius: 50%;\n",
              "    cursor: pointer;\n",
              "    display: none;\n",
              "    fill: var(--fill-color);\n",
              "    height: 32px;\n",
              "    padding: 0;\n",
              "    width: 32px;\n",
              "  }\n",
              "\n",
              "  .colab-df-quickchart:hover {\n",
              "    background-color: var(--hover-bg-color);\n",
              "    box-shadow: 0 1px 2px rgba(60, 64, 67, 0.3), 0 1px 3px 1px rgba(60, 64, 67, 0.15);\n",
              "    fill: var(--button-hover-fill-color);\n",
              "  }\n",
              "\n",
              "  .colab-df-quickchart-complete:disabled,\n",
              "  .colab-df-quickchart-complete:disabled:hover {\n",
              "    background-color: var(--disabled-bg-color);\n",
              "    fill: var(--disabled-fill-color);\n",
              "    box-shadow: none;\n",
              "  }\n",
              "\n",
              "  .colab-df-spinner {\n",
              "    border: 2px solid var(--fill-color);\n",
              "    border-color: transparent;\n",
              "    border-bottom-color: var(--fill-color);\n",
              "    animation:\n",
              "      spin 1s steps(1) infinite;\n",
              "  }\n",
              "\n",
              "  @keyframes spin {\n",
              "    0% {\n",
              "      border-color: transparent;\n",
              "      border-bottom-color: var(--fill-color);\n",
              "      border-left-color: var(--fill-color);\n",
              "    }\n",
              "    20% {\n",
              "      border-color: transparent;\n",
              "      border-left-color: var(--fill-color);\n",
              "      border-top-color: var(--fill-color);\n",
              "    }\n",
              "    30% {\n",
              "      border-color: transparent;\n",
              "      border-left-color: var(--fill-color);\n",
              "      border-top-color: var(--fill-color);\n",
              "      border-right-color: var(--fill-color);\n",
              "    }\n",
              "    40% {\n",
              "      border-color: transparent;\n",
              "      border-right-color: var(--fill-color);\n",
              "      border-top-color: var(--fill-color);\n",
              "    }\n",
              "    60% {\n",
              "      border-color: transparent;\n",
              "      border-right-color: var(--fill-color);\n",
              "    }\n",
              "    80% {\n",
              "      border-color: transparent;\n",
              "      border-right-color: var(--fill-color);\n",
              "      border-bottom-color: var(--fill-color);\n",
              "    }\n",
              "    90% {\n",
              "      border-color: transparent;\n",
              "      border-bottom-color: var(--fill-color);\n",
              "    }\n",
              "  }\n",
              "</style>\n",
              "\n",
              "  <script>\n",
              "    async function quickchart(key) {\n",
              "      const quickchartButtonEl =\n",
              "        document.querySelector('#' + key + ' button');\n",
              "      quickchartButtonEl.disabled = true;  // To prevent multiple clicks.\n",
              "      quickchartButtonEl.classList.add('colab-df-spinner');\n",
              "      try {\n",
              "        const charts = await google.colab.kernel.invokeFunction(\n",
              "            'suggestCharts', [key], {});\n",
              "      } catch (error) {\n",
              "        console.error('Error during call to suggestCharts:', error);\n",
              "      }\n",
              "      quickchartButtonEl.classList.remove('colab-df-spinner');\n",
              "      quickchartButtonEl.classList.add('colab-df-quickchart-complete');\n",
              "    }\n",
              "    (() => {\n",
              "      let quickchartButtonEl =\n",
              "        document.querySelector('#df-39f7447e-d8b9-4487-aafc-47380fd3dea2 button');\n",
              "      quickchartButtonEl.style.display =\n",
              "        google.colab.kernel.accessAllowed ? 'block' : 'none';\n",
              "    })();\n",
              "  </script>\n",
              "</div>\n",
              "\n",
              "    </div>\n",
              "  </div>\n"
            ],
            "application/vnd.google.colaboratory.intrinsic+json": {
              "type": "dataframe",
              "summary": "{\n  \"name\": \"x_train\",\n  \"rows\": 8,\n  \"fields\": [\n    {\n      \"column\": [\n        \"Mean IP\"\n      ],\n      \"properties\": {\n        \"dtype\": \"number\",\n        \"std\": 5062.151966047376,\n        \"min\": -4.035499361808347,\n        \"max\": 14318.0,\n        \"num_unique_values\": 8,\n        \"samples\": [\n          1.908113436930846e-16,\n          0.15874609205578563,\n          14318.0\n        ],\n        \"semantic_type\": \"\",\n        \"description\": \"\"\n      }\n    },\n    {\n      \"column\": [\n        \"STD IP\"\n      ],\n      \"properties\": {\n        \"dtype\": \"number\",\n        \"std\": 5061.898472207416,\n        \"min\": -3.1810325626780758,\n        \"max\": 14318.0,\n        \"num_unique_values\": 8,\n        \"samples\": [\n          -6.550610498696272e-16,\n          0.058466463102824454,\n          14318.0\n        ],\n        \"semantic_type\": \"\",\n        \"description\": \"\"\n      }\n    },\n    {\n      \"column\": [\n        \"Kurtosis IP\"\n      ],\n      \"properties\": {\n        \"dtype\": \"number\",\n        \"std\": 5061.918458942622,\n        \"min\": -2.185946021380508,\n        \"max\": 14318.0,\n        \"num_unique_values\": 8,\n        \"samples\": [\n          1.0421425793380433e-17,\n          -0.24531718983789905,\n          14318.0\n        ],\n        \"semantic_type\": \"\",\n        \"description\": \"\"\n      }\n    },\n    {\n      \"column\": [\n        \"Skewness\"\n      ],\n      \"properties\": {\n        \"dtype\": \"number\",\n        \"std\": 5061.661053725386,\n        \"min\": -0.5744050935591997,\n        \"max\": 14318.0,\n        \"num_unique_values\": 8,\n        \"samples\": [\n          3.870815294684161e-17,\n          -0.2578142295369455,\n          14318.0\n        ],\n        \"semantic_type\": \"\",\n        \"description\": \"\"\n      }\n    },\n    {\n      \"column\": [\n        \"Mean DM-SNR\"\n      ],\n      \"properties\": {\n        \"dtype\": \"number\",\n        \"std\": 5061.842117834414,\n        \"min\": -0.4239001377274741,\n        \"max\": 14318.0,\n        \"num_unique_values\": 8,\n        \"samples\": [\n          -8.73414733159503e-17,\n          -0.3372294119537138,\n          14318.0\n        ],\n        \"semantic_type\": \"\",\n        \"description\": \"\"\n      }\n    },\n    {\n      \"column\": [\n        \"STD DM-SNR\"\n      ],\n      \"properties\": {\n        \"dtype\": \"number\",\n        \"std\": 5062.005616408722,\n        \"min\": -0.9733706951703793,\n        \"max\": 14318.0,\n        \"num_unique_values\": 8,\n        \"samples\": [\n          -1.6178022898295338e-16,\n          -0.40674815537852693,\n          14318.0\n        ],\n        \"semantic_type\": \"\",\n        \"description\": \"\"\n      }\n    },\n    {\n      \"column\": [\n        \"Kurtosis DM-SNR\"\n      ],\n      \"properties\": {\n        \"dtype\": \"number\",\n        \"std\": 5061.957435855088,\n        \"min\": -2.455648647667141,\n        \"max\": 14318.0,\n        \"num_unique_values\": 8,\n        \"samples\": [\n          -1.5135880318957295e-17,\n          0.031704457322563356,\n          14318.0\n        ],\n        \"semantic_type\": \"\",\n        \"description\": \"\"\n      }\n    },\n    {\n      \"column\": [\n        \"Skewness DM-SNR\"\n      ],\n      \"properties\": {\n        \"dtype\": \"number\",\n        \"std\": 5061.688865918992,\n        \"min\": -1.0034105472256658,\n        \"max\": 14318.0,\n        \"num_unique_values\": 8,\n        \"samples\": [\n          1.1227845646439633e-16,\n          -0.20591362124882326,\n          14318.0\n        ],\n        \"semantic_type\": \"\",\n        \"description\": \"\"\n      }\n    }\n  ]\n}"
            }
          },
          "metadata": {},
          "execution_count": 30
        }
      ]
    },
    {
      "cell_type": "markdown",
      "source": [
        "train SVM model with default value"
      ],
      "metadata": {
        "id": "6GmphT5R5NjP"
      }
    },
    {
      "cell_type": "code",
      "source": [
        "from sklearn.svm import SVC\n",
        "from sklearn.metrics import accuracy_score\n",
        "svc=SVC()\n",
        "svc.fit(x_train,y_train)\n",
        "y_pred=svc.predict(x_test)\n",
        "print(f\"acuuracy {round(accuracy_score(y_test,y_pred),4)}\")"
      ],
      "metadata": {
        "id": "KC1ftK5DmlWl",
        "colab": {
          "base_uri": "https://localhost:8080/"
        },
        "outputId": "50581bba-c9be-46da-c644-e97abd311f06"
      },
      "execution_count": 31,
      "outputs": [
        {
          "output_type": "stream",
          "name": "stdout",
          "text": [
            "acuuracy 0.9827\n"
          ]
        }
      ]
    },
    {
      "cell_type": "markdown",
      "source": [
        "SVC parameter C=100 and Kernal =rbf"
      ],
      "metadata": {
        "id": "ikmGbas2YqHN"
      }
    },
    {
      "cell_type": "code",
      "source": [
        "svc=SVC(C=100)\n",
        "svc.fit(x_train,y_train)\n",
        "y_pred=svc.predict(x_test)\n",
        "print(f\"accuracy {round(accuracy_score(y_test,y_pred),4)}\")"
      ],
      "metadata": {
        "colab": {
          "base_uri": "https://localhost:8080/"
        },
        "id": "p69g7Fw9YolW",
        "outputId": "f09cb4d2-23e1-43ad-e9aa-6a76169901f8"
      },
      "execution_count": 32,
      "outputs": [
        {
          "output_type": "stream",
          "name": "stdout",
          "text": [
            "accuracy 0.9832\n"
          ]
        }
      ]
    },
    {
      "cell_type": "markdown",
      "source": [
        "SVC c=1000"
      ],
      "metadata": {
        "id": "-4O3evWrbuqV"
      }
    },
    {
      "cell_type": "code",
      "source": [
        "svc=SVC(C=1000)\n",
        "svc.fit(x_train,y_train)\n",
        "y_pred=svc.predict(x_test)\n",
        "print(f\"accuracy {round(accuracy_score(y_test,y_pred),4)}\")"
      ],
      "metadata": {
        "colab": {
          "base_uri": "https://localhost:8080/"
        },
        "id": "xA6uk7EwaBNW",
        "outputId": "c7640752-2e9a-45d5-ae67-09e03a573fa4"
      },
      "execution_count": 33,
      "outputs": [
        {
          "output_type": "stream",
          "name": "stdout",
          "text": [
            "accuracy 0.9816\n"
          ]
        }
      ]
    },
    {
      "cell_type": "markdown",
      "source": [
        "SVC c=1 and kernal=linear"
      ],
      "metadata": {
        "id": "8cStONMqckef"
      }
    },
    {
      "cell_type": "code",
      "source": [
        "linear_svc=SVC(kernel='linear')\n",
        "linear_svc.fit(x_train,y_train)\n",
        "y_pred_test=linear_svc.predict(x_test)\n",
        "print(f'accuracy {round(accuracy_score(y_test,y_pred_test),4)}')"
      ],
      "metadata": {
        "id": "bj1Vk8jzDdAg",
        "colab": {
          "base_uri": "https://localhost:8080/"
        },
        "outputId": "1a1ae236-4203-4fbf-d462-861fbc70437e"
      },
      "execution_count": 34,
      "outputs": [
        {
          "output_type": "stream",
          "name": "stdout",
          "text": [
            "accuracy 0.983\n"
          ]
        }
      ]
    },
    {
      "cell_type": "markdown",
      "source": [
        "SVC kernel=linear ,c=100"
      ],
      "metadata": {
        "id": "Hwq1VbTHhmXX"
      }
    },
    {
      "cell_type": "code",
      "source": [
        "linear_svc100=SVC(kernel='linear',C=100)\n",
        "linear_svc100.fit(x_train,y_train)\n",
        "y_pred=linear_svc100.predict(x_test)\n",
        "print(f\"accuracy {round(accuracy_score(y_test,y_pred),4)}\")"
      ],
      "metadata": {
        "colab": {
          "base_uri": "https://localhost:8080/"
        },
        "id": "2RJzOF3texAm",
        "outputId": "53726da0-98b3-4aa4-d54d-f937c313154a"
      },
      "execution_count": 35,
      "outputs": [
        {
          "output_type": "stream",
          "name": "stdout",
          "text": [
            "accuracy 0.9832\n"
          ]
        }
      ]
    },
    {
      "cell_type": "markdown",
      "source": [
        "SVC C=1000 Kernel=linear"
      ],
      "metadata": {
        "id": "uhC1gNCQhedL"
      }
    },
    {
      "cell_type": "code",
      "source": [
        "linear_svc1000=SVC(kernel='linear',C=1000)\n",
        "linear_svc1000.fit(x_train,y_train)\n",
        "y_pred=linear_svc1000.predict(x_test)\n",
        "print(f\"accuracy {round(accuracy_score(y_test,y_pred),4)}\")"
      ],
      "metadata": {
        "colab": {
          "base_uri": "https://localhost:8080/"
        },
        "id": "vY03esOCg2hV",
        "outputId": "8a554f21-8d2a-4e82-8c88-bf4ea858ee31"
      },
      "execution_count": 36,
      "outputs": [
        {
          "output_type": "stream",
          "name": "stdout",
          "text": [
            "accuracy 0.9832\n"
          ]
        }
      ]
    },
    {
      "cell_type": "code",
      "source": [
        "y_pred_train=linear_svc.predict(x_train)\n",
        "y_pred_train"
      ],
      "metadata": {
        "colab": {
          "base_uri": "https://localhost:8080/"
        },
        "id": "BMGbOtD3hd-9",
        "outputId": "3815fb0d-cdbe-436a-adc9-bb562898ecf7"
      },
      "execution_count": 37,
      "outputs": [
        {
          "output_type": "execute_result",
          "data": {
            "text/plain": [
              "array([0, 0, 1, ..., 0, 0, 0])"
            ]
          },
          "metadata": {},
          "execution_count": 37
        }
      ]
    },
    {
      "cell_type": "markdown",
      "source": [
        "linear kernal accuracy and score"
      ],
      "metadata": {
        "id": "cA2e9xgs5r9d"
      }
    },
    {
      "cell_type": "code",
      "source": [
        "print(f\"accuracy {round(accuracy_score(y_train,y_pred_train),4)}\")"
      ],
      "metadata": {
        "colab": {
          "base_uri": "https://localhost:8080/"
        },
        "id": "1bnl1PD1iqoI",
        "outputId": "302381e4-df4c-42bd-dce4-2d2fb6df836f"
      },
      "execution_count": 38,
      "outputs": [
        {
          "output_type": "stream",
          "name": "stdout",
          "text": [
            "accuracy 0.9783\n"
          ]
        }
      ]
    },
    {
      "cell_type": "code",
      "source": [
        "linear_svc.score(x_train,y_train)"
      ],
      "metadata": {
        "colab": {
          "base_uri": "https://localhost:8080/"
        },
        "id": "x7M-v1zZhd6-",
        "outputId": "cec4b9fd-635f-459a-e2e9-3958c13e96ef"
      },
      "execution_count": 39,
      "outputs": [
        {
          "output_type": "execute_result",
          "data": {
            "text/plain": [
              "0.9782790892582763"
            ]
          },
          "metadata": {},
          "execution_count": 39
        }
      ]
    },
    {
      "cell_type": "code",
      "source": [
        "linear_svc.score(x_test,y_test)"
      ],
      "metadata": {
        "colab": {
          "base_uri": "https://localhost:8080/"
        },
        "id": "WvIP2BZDh2pF",
        "outputId": "c60eaf6b-8ca9-4c78-f2a2-244beaa56c1e"
      },
      "execution_count": 40,
      "outputs": [
        {
          "output_type": "execute_result",
          "data": {
            "text/plain": [
              "0.9829608938547486"
            ]
          },
          "metadata": {},
          "execution_count": 40
        }
      ]
    },
    {
      "cell_type": "code",
      "source": [
        "linear_svc100.score(x_train,y_train), linear_svc100.score(x_test,y_test)"
      ],
      "metadata": {
        "colab": {
          "base_uri": "https://localhost:8080/"
        },
        "id": "yEbza-0C-YI-",
        "outputId": "6fef0383-1607-49d1-8cfe-a5e61546ff62"
      },
      "execution_count": 41,
      "outputs": [
        {
          "output_type": "execute_result",
          "data": {
            "text/plain": [
              "(0.9784886157284537, 0.9832402234636871)"
            ]
          },
          "metadata": {},
          "execution_count": 41
        }
      ]
    },
    {
      "cell_type": "code",
      "source": [
        "y_test.value_counts()"
      ],
      "metadata": {
        "colab": {
          "base_uri": "https://localhost:8080/"
        },
        "id": "SjVMqukR56zI",
        "outputId": "c52dd233-5e21-415e-d77f-63486f7a0b1c"
      },
      "execution_count": 42,
      "outputs": [
        {
          "output_type": "execute_result",
          "data": {
            "text/plain": [
              "Label\n",
              "0    3306\n",
              "1     274\n",
              "Name: count, dtype: int64"
            ]
          },
          "metadata": {},
          "execution_count": 42
        }
      ]
    },
    {
      "cell_type": "code",
      "source": [
        "null_accuracy=(3306/(3306+274))\n",
        "print(\"null accuracy score: {0:0.4f}\".format(null_accuracy))"
      ],
      "metadata": {
        "colab": {
          "base_uri": "https://localhost:8080/"
        },
        "id": "FglLJ0O27x_2",
        "outputId": "da6101ac-a946-4f70-f785-65c4b4a6443b"
      },
      "execution_count": 43,
      "outputs": [
        {
          "output_type": "stream",
          "name": "stdout",
          "text": [
            "null accuracy score: 0.9235\n"
          ]
        }
      ]
    },
    {
      "cell_type": "markdown",
      "source": [
        "SVC kernal= polynomial c=1"
      ],
      "metadata": {
        "id": "DRNpnhj1BqcE"
      }
    },
    {
      "cell_type": "code",
      "source": [
        "svc=SVC(kernel='poly',C=1)\n",
        "poly_svc=svc.fit(x_train,y_train)\n",
        "y_pred=poly_svc.predict(x_test)\n",
        "print(f'Polynomial acc {round(accuracy_score(y_test,y_pred),4)}')"
      ],
      "metadata": {
        "id": "G5QuAb7fh2l4",
        "colab": {
          "base_uri": "https://localhost:8080/"
        },
        "outputId": "b308d544-33cb-48d1-e0d3-7e6f750d518f"
      },
      "execution_count": 44,
      "outputs": [
        {
          "output_type": "stream",
          "name": "stdout",
          "text": [
            "Polynomial acc 0.9807\n"
          ]
        }
      ]
    },
    {
      "cell_type": "markdown",
      "source": [
        "svc kernal=poly , C=100"
      ],
      "metadata": {
        "id": "qaSIQ7RwDSRo"
      }
    },
    {
      "cell_type": "code",
      "source": [
        "poly_svc100=SVC(kernel='poly',C=100)\n",
        "poly_svc100.fit(x_train,y_train)\n",
        "y_pred=poly_svc100.predict(x_test)\n",
        "print(f\"Poly 100 acc {round(accuracy_score(y_test,y_pred),4)}\")"
      ],
      "metadata": {
        "colab": {
          "base_uri": "https://localhost:8080/"
        },
        "id": "FtVpCSeiDJZ2",
        "outputId": "c2becc98-3cea-4b38-d045-b6805a0de9ec"
      },
      "execution_count": 45,
      "outputs": [
        {
          "output_type": "stream",
          "name": "stdout",
          "text": [
            "Poly 100 acc 0.9824\n"
          ]
        }
      ]
    },
    {
      "cell_type": "markdown",
      "source": [
        "kernel=Poly c=1000"
      ],
      "metadata": {
        "id": "iCGcA-bhHvrp"
      }
    },
    {
      "cell_type": "code",
      "source": [
        "poly_svc1000=SVC(kernel='poly',C=1000)\n",
        "poly_svc1000.fit(x_train,y_train)\n",
        "y_pred_poly1000=poly_svc1000.predict(x_test)\n",
        "print(f\"poly 1000 accu {round(accuracy_score(y_test,y_pred_poly1000),4)}\")\n",
        "print(f\"score train {poly_svc1000.score(x_train,y_train)}\\n test {poly_svc1000.score(x_test,y_test)}\")"
      ],
      "metadata": {
        "colab": {
          "base_uri": "https://localhost:8080/"
        },
        "id": "CbYC4fTSHvAK",
        "outputId": "f7cf4f9e-15a4-43e2-90a9-cffe9f4bce46"
      },
      "execution_count": 46,
      "outputs": [
        {
          "output_type": "stream",
          "name": "stdout",
          "text": [
            "poly 1000 accu 0.9838\n",
            "score train 0.9800251431764213\n",
            " test 0.9837988826815642\n"
          ]
        }
      ]
    },
    {
      "cell_type": "code",
      "source": [
        "poly_svc1500=SVC(kernel='poly',C=1500)\n",
        "poly_svc1500.fit(x_train,y_train)\n",
        "y_pred_poly1500=poly_svc1500.predict(x_test)\n",
        "print(f\"poly 1500 accu {round(accuracy_score(y_test,y_pred_poly1500),4)}\")\n",
        "print(f\"score train {poly_svc1500.score(x_train,y_train)}\\n test {poly_svc1500.score(x_test,y_test)}\")"
      ],
      "metadata": {
        "colab": {
          "base_uri": "https://localhost:8080/"
        },
        "id": "cgXBy1joOE1m",
        "outputId": "82772276-66d0-4a49-e5e2-aeb467a16f8e"
      },
      "execution_count": 47,
      "outputs": [
        {
          "output_type": "stream",
          "name": "stdout",
          "text": [
            "poly 1500 accu 0.9838\n",
            "score train 0.9799553010196955\n",
            " test 0.9837988826815642\n"
          ]
        }
      ]
    },
    {
      "cell_type": "markdown",
      "source": [
        "SVM kernel=polynomial , C= 2000"
      ],
      "metadata": {
        "id": "8c7F0ohlL3Uo"
      }
    },
    {
      "cell_type": "code",
      "source": [
        "poly_svc2000=SVC(kernel=\"poly\",C=2000)\n",
        "poly_svc2000.fit(x_train,y_train)\n",
        "y_pred_poly2000=poly_svc2000.predict(x_test)\n",
        "print(f\"poly 2000 {round(accuracy_score(y_test,y_pred_poly2000),4)}\\n score train {poly_svc2000.score(x_train,y_train)}\\n  test {poly_svc2000.score(x_test,y_test)}\")"
      ],
      "metadata": {
        "colab": {
          "base_uri": "https://localhost:8080/"
        },
        "id": "1viUaIYhItxh",
        "outputId": "99233bec-2da0-4737-dcee-abe14fe2a246"
      },
      "execution_count": 48,
      "outputs": [
        {
          "output_type": "stream",
          "name": "stdout",
          "text": [
            "poly 2000 0.9844\n",
            " score train 0.9801648274898729\n",
            "  test 0.9843575418994414\n"
          ]
        }
      ]
    },
    {
      "cell_type": "markdown",
      "source": [
        "VSC kernal=poly C=4000"
      ],
      "metadata": {
        "id": "czxHJFpSg1Qs"
      }
    },
    {
      "cell_type": "code",
      "source": [
        "poly_svc4000=SVC(kernel='poly',C=4000)\n",
        "poly_svc4000.fit(x_train,y_train)\n",
        "y_pred_poly4000=poly_svc4000.predict(x_test)\n",
        "print(f\"Poly 4000 Accu {round(accuracy_score(y_test,y_pred_poly4000),4)}\\n Score train {poly_svc4000.score(x_train,y_train)}\")\n",
        "print(f\"  test  {poly_svc4000.score(x_test,y_test)}\")"
      ],
      "metadata": {
        "colab": {
          "base_uri": "https://localhost:8080/"
        },
        "id": "43E7OfYgMBTu",
        "outputId": "0315b3c3-ceaf-4825-9224-2d0fc6901643"
      },
      "execution_count": 49,
      "outputs": [
        {
          "output_type": "stream",
          "name": "stdout",
          "text": [
            "Poly 4000 Accu 0.9844\n",
            " Score train 0.9802346696465987\n",
            "  test  0.9843575418994414\n"
          ]
        }
      ]
    },
    {
      "cell_type": "markdown",
      "source": [
        "SVC kernal=Poly, C=5000"
      ],
      "metadata": {
        "id": "kQkbp6Z2RRRX"
      }
    },
    {
      "cell_type": "code",
      "source": [
        "poly_svc5000=SVC(kernel=\"poly\",C=5000)\n",
        "poly_svc5000.fit(x_train,y_train)\n",
        "y_pred_poly5000=poly_svc5000.predict(x_test)\n",
        "print(f\"Poly 5000 Accu {round(accuracy_score(y_test,y_pred_poly5000),4)} \")\n",
        "print(f\"Score train {poly_svc5000.score(x_train,y_train)}\\n test {poly_svc5000.score(x_test,y_test)}\")"
      ],
      "metadata": {
        "colab": {
          "base_uri": "https://localhost:8080/"
        },
        "id": "W1A28wulRQ60",
        "outputId": "97f7aabf-0f82-40d8-8ea2-51968d15c0e7"
      },
      "execution_count": 50,
      "outputs": [
        {
          "output_type": "stream",
          "name": "stdout",
          "text": [
            "Poly 5000 Accu 0.9841 \n",
            "Score train 0.9800949853331471\n",
            " test 0.9840782122905027\n"
          ]
        }
      ]
    },
    {
      "cell_type": "markdown",
      "source": [
        "SVC kernel=sigmoid c=1"
      ],
      "metadata": {
        "id": "c_ThO75OFmj-"
      }
    },
    {
      "cell_type": "code",
      "source": [
        "sigmoid_svc=SVC(kernel='sigmoid',C=1)\n",
        "sigmoid_svc.fit(x_train,y_train)\n",
        "y_pred=sigmoid_svc.predict(x_test)\n",
        "print(f\"sigmoid 1 accu {round(accuracy_score(y_test,y_pred),4)}\")"
      ],
      "metadata": {
        "colab": {
          "base_uri": "https://localhost:8080/"
        },
        "id": "jZ7iGroxFXJy",
        "outputId": "49814ffd-a0af-447f-a46b-f7eb13ecc41f"
      },
      "execution_count": 51,
      "outputs": [
        {
          "output_type": "stream",
          "name": "stdout",
          "text": [
            "sigmoid 1 accu 0.8858\n"
          ]
        }
      ]
    },
    {
      "cell_type": "markdown",
      "source": [
        "svc kernla= sigmoid c=100"
      ],
      "metadata": {
        "id": "Ffn1kdr9Gggq"
      }
    },
    {
      "cell_type": "code",
      "source": [
        "sigmoid_svc100=SVC(kernel=\"sigmoid\",C=100)\n",
        "sigmoid_svc100.fit(x_train,y_train)\n",
        "y_pred=sigmoid_svc100.predict(x_test)\n",
        "print(f\"sigmoid 100 accu {round(accuracy_score(y_test,y_pred),4)}\")"
      ],
      "metadata": {
        "colab": {
          "base_uri": "https://localhost:8080/"
        },
        "id": "Q-1-z7ABGYHg",
        "outputId": "e23d9bc2-d616-4d20-f5b4-d25e23d03eb0"
      },
      "execution_count": 52,
      "outputs": [
        {
          "output_type": "stream",
          "name": "stdout",
          "text": [
            "sigmoid 100 accu 0.8855\n"
          ]
        }
      ]
    },
    {
      "cell_type": "markdown",
      "source": [
        "kernel =Sigmoid c=1000"
      ],
      "metadata": {
        "id": "fQaHd4mmKKFD"
      }
    },
    {
      "cell_type": "code",
      "source": [
        "sigmoid_svc1000=SVC(kernel='sigmoid',C=1000)\n",
        "sigmoid_svc1000.fit(x_train,y_train)\n",
        "y_pred_sigmoid1000=sigmoid_svc1000.predict(x_test)\n",
        "print(f\"sigmoid 1000  {round(accuracy_score(y_test,y_pred_sigmoid1000),4)}\")\n",
        "print(f\"score {sigmoid_svc1000.score(x_test,y_test)}\")"
      ],
      "metadata": {
        "colab": {
          "base_uri": "https://localhost:8080/"
        },
        "id": "_aKjaanIu_c_",
        "outputId": "4ca00317-c06f-4476-afa0-9f88cbbbaa38"
      },
      "execution_count": 53,
      "outputs": [
        {
          "output_type": "stream",
          "name": "stdout",
          "text": [
            "sigmoid 1000  0.8855\n",
            "score 0.8854748603351955\n"
          ]
        }
      ]
    },
    {
      "cell_type": "code",
      "source": [
        "\"\"\"from sklearn.metrics import pair_confusion_matrix\n",
        "#from sklearn.metrics import plot_confusion_matrix\n",
        "from sklearn import metrics\n",
        "ma=metrics.ConfusionMatrixDisplay(linear_svc,x_test,y_test)\n",
        "plt.xlabel(\"Predict\")\n",
        "plt.ylabel(\"Actual\")\n",
        "plt.show()\n",
        "accuracy_score(y_test,y_pred_test)\n",
        "\"\"\""
      ],
      "metadata": {
        "colab": {
          "base_uri": "https://localhost:8080/",
          "height": 89
        },
        "id": "6jO1WcSIPkmz",
        "outputId": "cf5a967a-781f-4898-d229-8079dd92c3cc"
      },
      "execution_count": 54,
      "outputs": [
        {
          "output_type": "execute_result",
          "data": {
            "text/plain": [
              "'from sklearn.metrics import pair_confusion_matrix\\n#from sklearn.metrics import plot_confusion_matrix\\nfrom sklearn import metrics\\nma=metrics.ConfusionMatrixDisplay(linear_svc,x_test,y_test)\\nplt.xlabel(\"Predict\")\\nplt.ylabel(\"Actual\")\\nplt.show()\\naccuracy_score(y_test,y_pred_test)\\n'"
            ],
            "application/vnd.google.colaboratory.intrinsic+json": {
              "type": "string"
            }
          },
          "metadata": {},
          "execution_count": 54
        }
      ]
    },
    {
      "cell_type": "code",
      "source": [
        "from sklearn.metrics import confusion_matrix\n",
        "cm=confusion_matrix(y_test,y_pred_test)\n",
        "print(cm)"
      ],
      "metadata": {
        "id": "CjJruwX2PkiH",
        "colab": {
          "base_uri": "https://localhost:8080/"
        },
        "outputId": "92da9133-49d9-4314-fd68-fc49b2bdeac7"
      },
      "execution_count": 55,
      "outputs": [
        {
          "output_type": "stream",
          "name": "stdout",
          "text": [
            "[[3289   17]\n",
            " [  44  230]]\n"
          ]
        }
      ]
    },
    {
      "cell_type": "markdown",
      "source": [
        "Confusion amtrix of linear kernel"
      ],
      "metadata": {
        "id": "sI6-r0x36KD8"
      }
    },
    {
      "cell_type": "code",
      "source": [
        "cm_matrix = pd.DataFrame(data=cm,columns=[\"Actual Positive:1\",\"Actual Negative:0\"],\n",
        "                         index=[\"Predict Positive:1\",\"Predict Negative:0\"])\n",
        "sns.heatmap(cm_matrix,annot=True,fmt='d',cmap='YlGnBu')"
      ],
      "metadata": {
        "id": "-3Is2-ABu_Ye",
        "colab": {
          "base_uri": "https://localhost:8080/",
          "height": 448
        },
        "outputId": "c198b689-6e31-432b-f382-cc967d592104"
      },
      "execution_count": 56,
      "outputs": [
        {
          "output_type": "execute_result",
          "data": {
            "text/plain": [
              "<Axes: >"
            ]
          },
          "metadata": {},
          "execution_count": 56
        },
        {
          "output_type": "display_data",
          "data": {
            "text/plain": [
              "<Figure size 640x480 with 2 Axes>"
            ],
            "image/png": "[encoded data removed]"
          },
          "metadata": {}
        }
      ]
    },
    {
      "cell_type": "markdown",
      "source": [
        "confusion metrix of polynomial kernal with c=1000"
      ],
      "metadata": {
        "id": "2QVWWfaz6RlX"
      }
    },
    {
      "cell_type": "code",
      "source": [
        "cm_poly1000=confusion_matrix(y_test,y_pred_poly1000)\n",
        "col_cm=[\"Actual Positive:1\",\"Actual Negative:0\"]\n",
        "row_cm=[\"Predict Positive:1\",\"Predict Negative:0\"]\n",
        "cm_matrix_poly1000=pd.DataFrame(data=cm_poly1000,columns=col_cm,index=row_cm)\n",
        "sns.heatmap(cm_matrix_poly1000,annot=True,fmt='d',cmap='YlGnBu')"
      ],
      "metadata": {
        "id": "Is7BPD8zLE8f",
        "colab": {
          "base_uri": "https://localhost:8080/",
          "height": 448
        },
        "outputId": "e82568c3-a8bc-4b6b-a057-8af1e500ca29"
      },
      "execution_count": 57,
      "outputs": [
        {
          "output_type": "execute_result",
          "data": {
            "text/plain": [
              "<Axes: >"
            ]
          },
          "metadata": {},
          "execution_count": 57
        },
        {
          "output_type": "display_data",
          "data": {
            "text/plain": [
              "<Figure size 640x480 with 2 Axes>"
            ],
            "image/png": "[encoded data removed]"
          },
          "metadata": {}
        }
      ]
    },
    {
      "cell_type": "code",
      "source": [
        "cm_poly2000=confusion_matrix(y_test,y_pred_poly2000)\n",
        "cm_matrix_poly2000=pd.DataFrame(data=cm_poly2000,columns=col_cm,index=row_cm)\n",
        "sns.heatmap(cm_matrix_poly2000,annot=True,fmt='d',cmap='YlGnBu')"
      ],
      "metadata": {
        "id": "swoun7wgOIqq",
        "colab": {
          "base_uri": "https://localhost:8080/",
          "height": 448
        },
        "outputId": "4a79d957-a7d2-4112-e253-96e784a0c8db"
      },
      "execution_count": 58,
      "outputs": [
        {
          "output_type": "execute_result",
          "data": {
            "text/plain": [
              "<Axes: >"
            ]
          },
          "metadata": {},
          "execution_count": 58
        },
        {
          "output_type": "display_data",
          "data": {
            "text/plain": [
              "<Figure size 640x480 with 2 Axes>"
            ],
            "image/png": "[encoded data removed]"
          },
          "metadata": {}
        }
      ]
    },
    {
      "cell_type": "code",
      "source": [
        "cm_poly5000=confusion_matrix(y_test,y_pred_poly5000)\n",
        "cm_matrix_poly5000=pd.DataFrame(data=cm_poly5000,columns=col_cm,index=row_cm)\n",
        "sns.heatmap(cm_matrix_poly5000,annot=True,fmt='d',cmap=\"YlGnBu\")"
      ],
      "metadata": {
        "id": "vEKLHpp2hG7A",
        "colab": {
          "base_uri": "https://localhost:8080/",
          "height": 448
        },
        "outputId": "0bc6aedc-4530-4d5d-de37-0aa8142aa099"
      },
      "execution_count": 59,
      "outputs": [
        {
          "output_type": "execute_result",
          "data": {
            "text/plain": [
              "<Axes: >"
            ]
          },
          "metadata": {},
          "execution_count": 59
        },
        {
          "output_type": "display_data",
          "data": {
            "text/plain": [
              "<Figure size 640x480 with 2 Axes>"
            ],
            "image/png": "[encoded data removed]"
          },
          "metadata": {}
        }
      ]
    },
    {
      "cell_type": "markdown",
      "source": [
        "Classification metrics of linear and polynomial kernal"
      ],
      "metadata": {
        "id": "OJtfXAbu6oer"
      }
    },
    {
      "cell_type": "code",
      "source": [
        "from sklearn.metrics import classification_report\n",
        "print(classification_report(y_test,y_pred_test))"
      ],
      "metadata": {
        "id": "LEcC3syku_Uj",
        "colab": {
          "base_uri": "https://localhost:8080/"
        },
        "outputId": "8926b145-974f-4acf-d2d8-a157fd5c90fc"
      },
      "execution_count": 60,
      "outputs": [
        {
          "output_type": "stream",
          "name": "stdout",
          "text": [
            "              precision    recall  f1-score   support\n",
            "\n",
            "           0       0.99      0.99      0.99      3306\n",
            "           1       0.93      0.84      0.88       274\n",
            "\n",
            "    accuracy                           0.98      3580\n",
            "   macro avg       0.96      0.92      0.94      3580\n",
            "weighted avg       0.98      0.98      0.98      3580\n",
            "\n"
          ]
        }
      ]
    },
    {
      "cell_type": "code",
      "source": [
        "print(classification_report(y_test,y_pred_poly2000))"
      ],
      "metadata": {
        "id": "L7cB39rwmUQ5",
        "colab": {
          "base_uri": "https://localhost:8080/"
        },
        "outputId": "3c90251f-c77c-4b71-9098-39547c9f4e95"
      },
      "execution_count": 61,
      "outputs": [
        {
          "output_type": "stream",
          "name": "stdout",
          "text": [
            "              precision    recall  f1-score   support\n",
            "\n",
            "           0       0.99      0.99      0.99      3306\n",
            "           1       0.93      0.86      0.89       274\n",
            "\n",
            "    accuracy                           0.98      3580\n",
            "   macro avg       0.96      0.93      0.94      3580\n",
            "weighted avg       0.98      0.98      0.98      3580\n",
            "\n"
          ]
        }
      ]
    },
    {
      "cell_type": "code",
      "source": [
        "cm,cm_poly2000"
      ],
      "metadata": {
        "id": "b8DAQIe3mUNC",
        "colab": {
          "base_uri": "https://localhost:8080/"
        },
        "outputId": "16617d38-8f78-4868-902b-e4854bccdf09"
      },
      "execution_count": 62,
      "outputs": [
        {
          "output_type": "execute_result",
          "data": {
            "text/plain": [
              "(array([[3289,   17],\n",
              "        [  44,  230]]),\n",
              " array([[3289,   17],\n",
              "        [  39,  235]]))"
            ]
          },
          "metadata": {},
          "execution_count": 62
        }
      ]
    },
    {
      "cell_type": "code",
      "source": [
        "classification_accuracy=(cm[0,0]+cm[1,1])/ float(cm[0,0]+cm[1,1]+cm[0,1]+cm[1,0])\n",
        "print(f\"Classification Accuracy : {round(classification_accuracy,4)}\")"
      ],
      "metadata": {
        "id": "F_jE18ywmUIx",
        "colab": {
          "base_uri": "https://localhost:8080/"
        },
        "outputId": "4ba6a9e9-36d7-4f11-80c2-1746a13fcf1a"
      },
      "execution_count": 63,
      "outputs": [
        {
          "output_type": "stream",
          "name": "stdout",
          "text": [
            "Classification Accuracy : 0.983\n"
          ]
        }
      ]
    },
    {
      "cell_type": "code",
      "source": [
        "classification_accuracy_poly2000=(cm_poly2000[0,0]+cm_poly2000[1,1])/ float(cm_poly2000[0,0]+cm_poly2000[1,1]+cm_poly2000[0,1]+cm_poly2000[1,0])\n",
        "print(f\"Classification Accuracy Poly 2000  {round(classification_accuracy_poly2000,4)}\")"
      ],
      "metadata": {
        "id": "cJG0u6oAoygZ",
        "colab": {
          "base_uri": "https://localhost:8080/"
        },
        "outputId": "ee0c39d7-5267-4f54-a02b-0da19cbca263"
      },
      "execution_count": 64,
      "outputs": [
        {
          "output_type": "stream",
          "name": "stdout",
          "text": [
            "Classification Accuracy Poly 2000  0.9844\n"
          ]
        }
      ]
    },
    {
      "cell_type": "code",
      "source": [
        "classification_error=(cm[0,1]+cm[1,0])/float(cm[0,0]+cm[1,1]+cm[0,1]+cm[1,0])\n",
        "classification_error_poly2000=(cm_poly2000[0,1]+cm_poly2000[1,0])/ float(cm_poly2000[1,1]+cm_poly2000[0,0]+cm_poly2000[1,0]+cm_poly2000[0,1])\n",
        "print(f\"Classification Error : {round(classification_error,4)}\")\n",
        "print(f\"Classification error Poly 2000 {round(classification_error,4)}\")"
      ],
      "metadata": {
        "id": "KFoBUa1UqWyP",
        "colab": {
          "base_uri": "https://localhost:8080/"
        },
        "outputId": "1b161b21-4912-4fab-fd50-a36749de6517"
      },
      "execution_count": 65,
      "outputs": [
        {
          "output_type": "stream",
          "name": "stdout",
          "text": [
            "Classification Error : 0.017\n",
            "Classification error Poly 2000 0.017\n"
          ]
        }
      ]
    },
    {
      "cell_type": "code",
      "source": [
        "precision=cm[0,0]/float(cm[0,1]+cm[0,0])\n",
        "precision_poly2000=cm_poly2000[0,0]/float(cm_poly2000[0,1]+cm_poly2000[0,0])\n",
        "print(f\"  Precision \\n linear {round(precision,5)}\")\n",
        "print(f\" Poly   {round(precision_poly2000,5)}\")"
      ],
      "metadata": {
        "id": "YR840fBmonUD",
        "colab": {
          "base_uri": "https://localhost:8080/"
        },
        "outputId": "c8f6dcf4-700c-460b-d35d-27e5eda01641"
      },
      "execution_count": 66,
      "outputs": [
        {
          "output_type": "stream",
          "name": "stdout",
          "text": [
            "  Precision \n",
            " linear 0.99486\n",
            " Poly   0.99486\n"
          ]
        }
      ]
    },
    {
      "cell_type": "code",
      "source": [
        "recall=cm[0,0]/float(cm[0,0]+cm[1,0])\n",
        "recall_poly2000=cm_poly2000[0,0]/float(cm_poly2000[0,0]+cm_poly2000[1,0])\n",
        "print(f\"Recall \\n linear {round(recall,4)}\")\n",
        "print(f\"  Poly  {round(recall_poly2000,4)} \")\n"
      ],
      "metadata": {
        "id": "o2tMKIc7uxdf",
        "colab": {
          "base_uri": "https://localhost:8080/"
        },
        "outputId": "d5bb7628-dd39-46ec-8f88-9ecc9e82b881"
      },
      "execution_count": 67,
      "outputs": [
        {
          "output_type": "stream",
          "name": "stdout",
          "text": [
            "Recall \n",
            " linear 0.9868\n",
            "  Poly  0.9883 \n"
          ]
        }
      ]
    },
    {
      "cell_type": "code",
      "source": [
        "false_positive=cm[0,1]/float(cm[0,1]+cm[1,1])\n",
        "false_positive_poly2000=cm_poly2000[0,1]/float(cm_poly2000[0,1]+cm_poly2000[1,1])\n",
        "print(f\"False Positive \\n linear {round(false_positive,4)}\")\n",
        "print(f\"Poly {round(false_positive_poly2000,4)}\")"
      ],
      "metadata": {
        "id": "0s3nDp-Fx7h3",
        "colab": {
          "base_uri": "https://localhost:8080/"
        },
        "outputId": "711d243b-c007-45ef-8a6a-9064bb3ab7e8"
      },
      "execution_count": 68,
      "outputs": [
        {
          "output_type": "stream",
          "name": "stdout",
          "text": [
            "False Positive \n",
            " linear 0.0688\n",
            "Poly 0.0675\n"
          ]
        }
      ]
    },
    {
      "cell_type": "code",
      "source": [
        "specificity=cm[1,1]/float(cm[0,1]+cm[1,1])\n",
        "specificity_poly2000=cm_poly2000[1,1]/float(cm_poly2000[1,1]+cm_poly2000[0,1])\n",
        "print(f\"Specificity \\n Linear {round(specificity,4)}\")\n",
        "print(f\"Poly {round(specificity_poly2000,4)}\")"
      ],
      "metadata": {
        "id": "EztN2iVCx2EC",
        "colab": {
          "base_uri": "https://localhost:8080/"
        },
        "outputId": "f6cb7f77-3b3a-4f80-b56a-8969e6878d12"
      },
      "execution_count": 69,
      "outputs": [
        {
          "output_type": "stream",
          "name": "stdout",
          "text": [
            "Specificity \n",
            " Linear 0.9312\n",
            "Poly 0.9325\n"
          ]
        }
      ]
    },
    {
      "cell_type": "code",
      "source": [
        "from sklearn.metrics import roc_curve,f1_score,roc_auc_score\n",
        "f1_linear=f1_score(y_test,y_pred_test)\n",
        "f1_poly2000=f1_score(y_test,y_pred_poly2000)\n",
        "print(f\"F1 score \\n Linear  {round(f1_linear,5)}\")\n",
        "print(f\"Poly  {round(f1_poly2000,5)}\")"
      ],
      "metadata": {
        "id": "3rUx6Y08x1-w",
        "colab": {
          "base_uri": "https://localhost:8080/"
        },
        "outputId": "61277250-df5d-4f91-b0ce-0ce8b6b5fdc9"
      },
      "execution_count": 70,
      "outputs": [
        {
          "output_type": "stream",
          "name": "stdout",
          "text": [
            "F1 score \n",
            " Linear  0.88292\n",
            "Poly  0.89354\n"
          ]
        }
      ]
    },
    {
      "cell_type": "code",
      "source": [
        "fpr,tpr, thresholds =roc_curve(y_test,y_pred_test)\n",
        "plt.figure(figsize=(6,4))\n",
        "plt.plot(fpr,tpr,linewidth=2)\n",
        "plt.plot([0,1],[0,1],\"k--\")\n",
        "plt.rcParams[\"font.size\"] =12\n",
        "plt.title(\"ROC curve for predictiong a Pulse Star Classifier\")\n",
        "plt.xlabel(\"False POsitive Rate (1- Specificity)\")\n",
        "plt.ylabel(\"True Positive Rate (Sensitivity)\")\n",
        "plt.show()\n"
      ],
      "metadata": {
        "id": "oS264qGr0ted",
        "colab": {
          "base_uri": "https://localhost:8080/",
          "height": 411
        },
        "outputId": "266a3a6e-457a-4ca8-850f-e7590e50645d"
      },
      "execution_count": 71,
      "outputs": [
        {
          "output_type": "display_data",
          "data": {
            "text/plain": [
              "<Figure size 600x400 with 1 Axes>"
            ],
            "image/png": "[encoded data removed]"
          },
          "metadata": {}
        }
      ]
    },
    {
      "cell_type": "code",
      "source": [
        "y_pred_test.shape,y_pred_poly2000.shape,y_test.shape"
      ],
      "metadata": {
        "colab": {
          "base_uri": "https://localhost:8080/"
        },
        "id": "_oYoVw1XEsTx",
        "outputId": "6db72760-7fd4-412f-f4a2-2fc379c9cadc"
      },
      "execution_count": 78,
      "outputs": [
        {
          "output_type": "execute_result",
          "data": {
            "text/plain": [
              "((3580,), (3580,), (3580,))"
            ]
          },
          "metadata": {},
          "execution_count": 78
        }
      ]
    },
    {
      "cell_type": "code",
      "source": [
        "fpr,tpr,thresholds =roc_curve(y_test,y_pred_poly2000)\n",
        "plt.figure(figsize=(6,4))\n",
        "plt.plot(fpr,tpr,linewidth=2)\n",
        "plt.plot([0,1],[0,1],\"k--\")\n",
        "plt.rcParams[\"font.size\"]=12\n",
        "plt.title(\"ROC curve for Predicting a Pulse star Classification\")\n",
        "plt.xlabel(\"False Positive rate (1- specificity)\")\n",
        "plt.ylabel(\"True POsitive Rate (Sensitivity)\")\n",
        "plt.show()"
      ],
      "metadata": {
        "id": "cvf4tPFcIDJ8",
        "colab": {
          "base_uri": "https://localhost:8080/",
          "height": 419
        },
        "outputId": "be9a49c3-1661-4d6b-8820-91595529a024"
      },
      "execution_count": 79,
      "outputs": [
        {
          "output_type": "display_data",
          "data": {
            "text/plain": [
              "<Figure size 600x400 with 1 Axes>"
            ],
            "image/png": "[encoded data removed]"
          },
          "metadata": {}
        }
      ]
    },
    {
      "cell_type": "code",
      "source": [
        "roc_linear=roc_auc_score(y_test,y_pred_test)\n",
        "roc_poly2000=roc_auc_score(y_test,y_pred_poly2000)\n",
        "print(f\"    ROC Score\\n linear  {round(roc_linear,5)}\")\n",
        "print(f\" Poly {round(roc_poly2000,5)}\")"
      ],
      "metadata": {
        "id": "ST1VBnFUMCN_",
        "colab": {
          "base_uri": "https://localhost:8080/"
        },
        "outputId": "4089e64d-4b9a-4b78-f35d-6d1a38f92057"
      },
      "execution_count": 82,
      "outputs": [
        {
          "output_type": "stream",
          "name": "stdout",
          "text": [
            "    ROC Score\n",
            " linear  0.91714\n",
            " Poly 0.92626\n"
          ]
        }
      ]
    },
    {
      "cell_type": "code",
      "source": [
        "from sklearn.model_selection import cross_val_score\n",
        "cross_val=cross_val_score(linear_svc,x_train,y_train,cv=10,\n",
        "                          scoring='roc_auc').mean()\n",
        "cross_val_poly2000=cross_val_score(poly_svc2000,x_train,y_train,\n",
        "                        cv=10,scoring='roc_auc').mean()\n",
        "print(f'Crosss validare ROC AUC \\n linear {round(cross_val,5)}')\n",
        "print(f\"POly2000   {round(cross_val_poly2000,5)}\")"
      ],
      "metadata": {
        "id": "2mi46cXFMCJ1",
        "colab": {
          "base_uri": "https://localhost:8080/"
        },
        "outputId": "642d0f20-fd38-4868-a961-f1de12bf929f"
      },
      "execution_count": 86,
      "outputs": [
        {
          "output_type": "stream",
          "name": "stdout",
          "text": [
            "Crosss validare ROC AUR \n",
            " linear 0.97563\n",
            "POly2000   0.95641\n"
          ]
        }
      ]
    },
    {
      "cell_type": "markdown",
      "source": [
        "cross_val_score(poly_svc2000,x_train,y_train,\n",
        "                        cv=10,scoring='roc_auc')"
      ],
      "metadata": {
        "id": "Xnck4BxTMCFj"
      }
    },
    {
      "cell_type": "code",
      "source": [
        "from sklearn.model_selection import KFold\n",
        "kfold=KFold(n_splits=5,shuffle=True,random_state=0)\n",
        "Linear_svc1=SVC(kernel='linear')\n",
        "linear_scores=cross_val_score(Linear_svc1,x_train,y_train,cv=kfold)"
      ],
      "metadata": {
        "id": "uADUa0hoMCBU"
      },
      "execution_count": 99,
      "outputs": []
    },
    {
      "cell_type": "code",
      "source": [
        "print(f\"Stratified cross-validation score with Linear kernal \\n{linear_scores}\")"
      ],
      "metadata": {
        "id": "uHvsD7kyMB8-",
        "colab": {
          "base_uri": "https://localhost:8080/"
        },
        "outputId": "a5fff70f-4c06-44dd-fb3c-54f564897866"
      },
      "execution_count": 100,
      "outputs": [
        {
          "output_type": "stream",
          "name": "stdout",
          "text": [
            "Stratified cross-validation score with Linear kernal \n",
            "[0.97870112 0.98009777 0.98009777 0.97764583 0.97555012]\n"
          ]
        }
      ]
    },
    {
      "cell_type": "code",
      "source": [
        "print(f\"Average {linear_scores.mean()}\")"
      ],
      "metadata": {
        "id": "YONbafzAMB4C",
        "colab": {
          "base_uri": "https://localhost:8080/"
        },
        "outputId": "0fae7a72-11c2-469c-f5d3-f40df2e85697"
      },
      "execution_count": 101,
      "outputs": [
        {
          "output_type": "stream",
          "name": "stdout",
          "text": [
            "Avgerage 0.9784185192701331\n"
          ]
        }
      ]
    },
    {
      "cell_type": "code",
      "source": [
        "Poly_svc1=SVC(kernel='poly',C=2000)\n",
        "Poly_scores=cross_val_score(Poly_svc1,x_train,y_train,cv=kfold)\n",
        "print(f\"Stratified cross-validataion score with Poly kernel\\n{Poly_scores}\")\n",
        "print(f\"\\n Average with Poly kernel \\n {Poly_svc1.mean()}\")"
      ],
      "metadata": {
        "id": "5NzX3-8GMBzr"
      },
      "execution_count": null,
      "outputs": []
    },
    {
      "cell_type": "code",
      "source": [
        "print(f\" stacratified score  {Poly_scores}\\n average  {Poly_svc1.mean()}\")"
      ],
      "metadata": {
        "id": "YMyrOWgss99E"
      },
      "execution_count": null,
      "outputs": []
    },
    {
      "cell_type": "markdown",
      "source": [
        "GridSearchCV for hyperparameter Optimization"
      ],
      "metadata": {
        "id": "sZrmE8yP7nmv"
      }
    },
    {
      "cell_type": "code",
      "source": [
        "from sklearn.model_selection import GridSearchCV\n",
        "Svc=SVC()\n",
        "parameters=[{'C':[1,100,1000],\"kernel\":[\"linear\"]},\n",
        "            {\"C\":[1,100,1000],'kernel':['rbf'],'gamma':[0.1, 0.2, 0.3, 0.4, 0.5, 0.6, 0.7, 0.8, 0.9]},\n",
        "               {'C':[100, 1000,2000], 'kernel':['poly'], 'degree': [2,3,4] ,'gamma':[0.01,0.02,0.03,0.04,0.05]}\n",
        "              ]\n",
        "grid_search=GridSearchCV(estimator=Svc,param_grid=parameters,\n",
        "                        scoring='accuracy',cv=5,verbose=0 )\n",
        "grid_search.fit(x_train,y_train)"
      ],
      "metadata": {
        "id": "8cGEz7kUMA18",
        "colab": {
          "base_uri": "https://localhost:8080/",
          "height": 139
        },
        "outputId": "9329bbea-d380-44be-a995-79f6e4dd5f01"
      },
      "execution_count": 104,
      "outputs": [
        {
          "output_type": "execute_result",
          "data": {
            "text/plain": [
              "GridSearchCV(cv=5, estimator=SVC(),\n",
              "             param_grid=[{'C': [1, 100, 1000], 'kernel': ['linear']},\n",
              "                         {'C': [1, 100, 1000],\n",
              "                          'gamma': [0.1, 0.2, 0.3, 0.4, 0.5, 0.6, 0.7, 0.8,\n",
              "                                    0.9],\n",
              "                          'kernel': ['rbf']},\n",
              "                         {'C': [100, 1000, 2000], 'degree': [2, 3, 4],\n",
              "                          'gamma': [0.01, 0.02, 0.03, 0.04, 0.05],\n",
              "                          'kernel': ['poly']}],\n",
              "             scoring='accuracy')"
            ],
            "text/html": [
              "<style>#sk-container-id-1 {color: black;background-color: white;}#sk-container-id-1 pre{padding: 0;}#sk-container-id-1 div.sk-toggleable {background-color: white;}#sk-container-id-1 label.sk-toggleable__label {cursor: pointer;display: block;width: 100%;margin-bottom: 0;padding: 0.3em;box-sizing: border-box;text-align: center;}#sk-container-id-1 label.sk-toggleable__label-arrow:before {content: \"▸\";float: left;margin-right: 0.25em;color: #696969;}#sk-container-id-1 label.sk-toggleable__label-arrow:hover:before {color: black;}#sk-container-id-1 div.sk-estimator:hover label.sk-toggleable__label-arrow:before {color: black;}#sk-container-id-1 div.sk-toggleable__content {max-height: 0;max-width: 0;overflow: hidden;text-align: left;background-color: #f0f8ff;}#sk-container-id-1 div.sk-toggleable__content pre {margin: 0.2em;color: black;border-radius: 0.25em;background-color: #f0f8ff;}#sk-container-id-1 input.sk-toggleable__control:checked~div.sk-toggleable__content {max-height: 200px;max-width: 100%;overflow: auto;}#sk-container-id-1 input.sk-toggleable__control:checked~label.sk-toggleable__label-arrow:before {content: \"▾\";}#sk-container-id-1 div.sk-estimator input.sk-toggleable__control:checked~label.sk-toggleable__label {background-color: #d4ebff;}#sk-container-id-1 div.sk-label input.sk-toggleable__control:checked~label.sk-toggleable__label {background-color: #d4ebff;}#sk-container-id-1 input.sk-hidden--visually {border: 0;clip: rect(1px 1px 1px 1px);clip: rect(1px, 1px, 1px, 1px);height: 1px;margin: -1px;overflow: hidden;padding: 0;position: absolute;width: 1px;}#sk-container-id-1 div.sk-estimator {font-family: monospace;background-color: #f0f8ff;border: 1px dotted black;border-radius: 0.25em;box-sizing: border-box;margin-bottom: 0.5em;}#sk-container-id-1 div.sk-estimator:hover {background-color: #d4ebff;}#sk-container-id-1 div.sk-parallel-item::after {content: \"\";width: 100%;border-bottom: 1px solid gray;flex-grow: 1;}#sk-container-id-1 div.sk-label:hover label.sk-toggleable__label {background-color: #d4ebff;}#sk-container-id-1 div.sk-serial::before {content: \"\";position: absolute;border-left: 1px solid gray;box-sizing: border-box;top: 0;bottom: 0;left: 50%;z-index: 0;}#sk-container-id-1 div.sk-serial {display: flex;flex-direction: column;align-items: center;background-color: white;padding-right: 0.2em;padding-left: 0.2em;position: relative;}#sk-container-id-1 div.sk-item {position: relative;z-index: 1;}#sk-container-id-1 div.sk-parallel {display: flex;align-items: stretch;justify-content: center;background-color: white;position: relative;}#sk-container-id-1 div.sk-item::before, #sk-container-id-1 div.sk-parallel-item::before {content: \"\";position: absolute;border-left: 1px solid gray;box-sizing: border-box;top: 0;bottom: 0;left: 50%;z-index: -1;}#sk-container-id-1 div.sk-parallel-item {display: flex;flex-direction: column;z-index: 1;position: relative;background-color: white;}#sk-container-id-1 div.sk-parallel-item:first-child::after {align-self: flex-end;width: 50%;}#sk-container-id-1 div.sk-parallel-item:last-child::after {align-self: flex-start;width: 50%;}#sk-container-id-1 div.sk-parallel-item:only-child::after {width: 0;}#sk-container-id-1 div.sk-dashed-wrapped {border: 1px dashed gray;margin: 0 0.4em 0.5em 0.4em;box-sizing: border-box;padding-bottom: 0.4em;background-color: white;}#sk-container-id-1 div.sk-label label {font-family: monospace;font-weight: bold;display: inline-block;line-height: 1.2em;}#sk-container-id-1 div.sk-label-container {text-align: center;}#sk-container-id-1 div.sk-container {/* jupyter's `normalize.less` sets `[hidden] { display: none; }` but bootstrap.min.css set `[hidden] { display: none !important; }` so we also need the `!important` here to be able to override the default hidden behavior on the sphinx rendered scikit-learn.org. See: https://github.com/scikit-learn/scikit-learn/issues/21755 */display: inline-block !important;position: relative;}#sk-container-id-1 div.sk-text-repr-fallback {display: none;}</style><div id=\"sk-container-id-1\" class=\"sk-top-container\"><div class=\"sk-text-repr-fallback\"><pre>GridSearchCV(cv=5, estimator=SVC(),\n",
              "             param_grid=[{&#x27;C&#x27;: [1, 100, 1000], &#x27;kernel&#x27;: [&#x27;linear&#x27;]},\n",
              "                         {&#x27;C&#x27;: [1, 100, 1000],\n",
              "                          &#x27;gamma&#x27;: [0.1, 0.2, 0.3, 0.4, 0.5, 0.6, 0.7, 0.8,\n",
              "                                    0.9],\n",
              "                          &#x27;kernel&#x27;: [&#x27;rbf&#x27;]},\n",
              "                         {&#x27;C&#x27;: [100, 1000, 2000], &#x27;degree&#x27;: [2, 3, 4],\n",
              "                          &#x27;gamma&#x27;: [0.01, 0.02, 0.03, 0.04, 0.05],\n",
              "                          &#x27;kernel&#x27;: [&#x27;poly&#x27;]}],\n",
              "             scoring=&#x27;accuracy&#x27;)</pre><b>In a Jupyter environment, please rerun this cell to show the HTML representation or trust the notebook. <br />On GitHub, the HTML representation is unable to render, please try loading this page with nbviewer.org.</b></div><div class=\"sk-container\" hidden><div class=\"sk-item sk-dashed-wrapped\"><div class=\"sk-label-container\"><div class=\"sk-label sk-toggleable\"><input class=\"sk-toggleable__control sk-hidden--visually\" id=\"sk-estimator-id-1\" type=\"checkbox\" ><label for=\"sk-estimator-id-1\" class=\"sk-toggleable__label sk-toggleable__label-arrow\">GridSearchCV</label><div class=\"sk-toggleable__content\"><pre>GridSearchCV(cv=5, estimator=SVC(),\n",
              "             param_grid=[{&#x27;C&#x27;: [1, 100, 1000], &#x27;kernel&#x27;: [&#x27;linear&#x27;]},\n",
              "                         {&#x27;C&#x27;: [1, 100, 1000],\n",
              "                          &#x27;gamma&#x27;: [0.1, 0.2, 0.3, 0.4, 0.5, 0.6, 0.7, 0.8,\n",
              "                                    0.9],\n",
              "                          &#x27;kernel&#x27;: [&#x27;rbf&#x27;]},\n",
              "                         {&#x27;C&#x27;: [100, 1000, 2000], &#x27;degree&#x27;: [2, 3, 4],\n",
              "                          &#x27;gamma&#x27;: [0.01, 0.02, 0.03, 0.04, 0.05],\n",
              "                          &#x27;kernel&#x27;: [&#x27;poly&#x27;]}],\n",
              "             scoring=&#x27;accuracy&#x27;)</pre></div></div></div><div class=\"sk-parallel\"><div class=\"sk-parallel-item\"><div class=\"sk-item\"><div class=\"sk-label-container\"><div class=\"sk-label sk-toggleable\"><input class=\"sk-toggleable__control sk-hidden--visually\" id=\"sk-estimator-id-2\" type=\"checkbox\" ><label for=\"sk-estimator-id-2\" class=\"sk-toggleable__label sk-toggleable__label-arrow\">estimator: SVC</label><div class=\"sk-toggleable__content\"><pre>SVC()</pre></div></div></div><div class=\"sk-serial\"><div class=\"sk-item\"><div class=\"sk-estimator sk-toggleable\"><input class=\"sk-toggleable__control sk-hidden--visually\" id=\"sk-estimator-id-3\" type=\"checkbox\" ><label for=\"sk-estimator-id-3\" class=\"sk-toggleable__label sk-toggleable__label-arrow\">SVC</label><div class=\"sk-toggleable__content\"><pre>SVC()</pre></div></div></div></div></div></div></div></div></div></div>"
            ]
          },
          "metadata": {},
          "execution_count": 104
        }
      ]
    },
    {
      "cell_type": "code",
      "source": [
        "print(f\"Best score {grid_search.best_score_}\")\n",
        "print(f\"Best parameters  {grid_search.best_params_}\")\n",
        "print(f\"Beat model  {grid_search.best_estimator_}\")"
      ],
      "metadata": {
        "colab": {
          "base_uri": "https://localhost:8080/"
        },
        "id": "4wZmx6Dyp0JE",
        "outputId": "f5092525-fb26-413e-99ab-5608e3e5ed90"
      },
      "execution_count": 105,
      "outputs": [
        {
          "output_type": "stream",
          "name": "stdout",
          "text": [
            "Best score 0.9788378063796033\n",
            "Best parameters  {'C': 100, 'gamma': 0.1, 'kernel': 'rbf'}\n",
            "Beat model  SVC(C=100, gamma=0.1)\n"
          ]
        }
      ]
    },
    {
      "cell_type": "code",
      "source": [
        "print(f\"Test score  {grid_search.score(x_test,y_test)}\")"
      ],
      "metadata": {
        "colab": {
          "base_uri": "https://localhost:8080/"
        },
        "id": "92ZfuJZDswy0",
        "outputId": "17772674-294d-443e-dabd-b19a91e609b0"
      },
      "execution_count": 106,
      "outputs": [
        {
          "output_type": "stream",
          "name": "stdout",
          "text": [
            "Test score  0.9832402234636871\n"
          ]
        }
      ]
    },
    {
      "cell_type": "code",
      "source": [],
      "metadata": {
        "id": "gfoL_NB2p0EA"
      },
      "execution_count": null,
      "outputs": []
    },
    {
      "cell_type": "code",
      "source": [],
      "metadata": {
        "id": "wYqYQjMlpz_6"
      },
      "execution_count": null,
      "outputs": []
    },
    {
      "cell_type": "code",
      "source": [],
      "metadata": {
        "id": "muvlYjOZpztV"
      },
      "execution_count": null,
      "outputs": []
    }
  ]
}